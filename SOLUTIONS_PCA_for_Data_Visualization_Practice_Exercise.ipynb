{
  "nbformat": 4,
  "nbformat_minor": 0,
  "metadata": {
    "colab": {
      "name": "SOLUTIONS PCA for Data Visualization Practice Exercise.ipynb",
      "provenance": [],
      "collapsed_sections": [],
      "authorship_tag": "ABX9TyPnAyF+IrGUhjgR9aFVr2EO",
      "include_colab_link": true
    },
    "kernelspec": {
      "name": "python3",
      "display_name": "Python 3"
    },
    "language_info": {
      "name": "python"
    }
  },
  "cells": [
    {
      "cell_type": "markdown",
      "metadata": {
        "id": "view-in-github",
        "colab_type": "text"
      },
      "source": [
        "<a href=\"https://colab.research.google.com/github/coding-dojo-data-science/Dimensionality-Reduction-Curriculum/blob/main/SOLUTIONS_PCA_for_Data_Visualization_Practice_Exercise.ipynb\" target=\"_parent\"><img src=\"https://colab.research.google.com/assets/colab-badge.svg\" alt=\"Open In Colab\"/></a>"
      ]
    },
    {
      "cell_type": "markdown",
      "source": [
        "# Visualizing Clusters with Principal Component Analysis\n",
        "\n",
        "In this exercise you will cluster credit card customer data using 8 features and visualize those clusters in a two-dimensional scatter plot.\n",
        "\n",
        "In order to accomplish this, you will:\n",
        "1. Import libraries\n",
        "2. Load data [found here](https://s3.amazonaws.com/General_V88/boomyeah2015/codingdojo/curriculum/content/chapter/cust_seg.csv)\n",
        "3. Drop unneeded columns\n",
        "4. Explore the data and clean as needed\n",
        "5. Scale the Data\n",
        "6. Tune a KMeans model and cluster the scaled data\n",
        "7. Transform the scaled data using PCA\n",
        "8. Create a scatter plot of the first 2 principal components of the PCA data, colored by the labels from the KMeans model.\n",
        "9. Bonus: Create a 3D scatter plot using Plotly Express scatter_3d() function using the first 3 principal components of the PCA data as the x, y, and z axes and the labels from the KMeans model as the color.\n",
        "\n",
        "[Documentation for scatter_3d from Plotly Express](https://plotly.com/python-api-reference/generated/plotly.express.scatter_3d)"
      ],
      "metadata": {
        "id": "-DWMLnvPWeXF"
      }
    },
    {
      "cell_type": "markdown",
      "source": [
        "# 1. Import Necessary Libraries"
      ],
      "metadata": {
        "id": "pamSkKqbYhKt"
      }
    },
    {
      "cell_type": "code",
      "execution_count": 30,
      "metadata": {
        "id": "waNCJ14DSE2o"
      },
      "outputs": [],
      "source": [
        "import pandas as pd\n",
        "import matplotlib.pyplot as plt\n",
        "import numpy as np\n",
        "\n",
        "from sklearn.decomposition import PCA\n",
        "from sklearn.cluster import KMeans\n",
        "from sklearn.preprocessing import StandardScaler\n",
        "from sklearn.metrics import silhouette_score"
      ]
    },
    {
      "cell_type": "markdown",
      "source": [
        "# 2. Load Data"
      ],
      "metadata": {
        "id": "2xZp3ckHYlYU"
      }
    },
    {
      "cell_type": "code",
      "source": [
        "df = pd.read_csv('https://s3.amazonaws.com/General_V88/boomyeah2015/codingdojo/curriculum/content/chapter/cust_seg.csv')\n",
        "\n",
        "df.head()"
      ],
      "metadata": {
        "colab": {
          "base_uri": "https://localhost:8080/",
          "height": 206
        },
        "id": "jtZC7pgOS6Qk",
        "outputId": "c30ec506-cba0-4b57-d5aa-856752b946a2"
      },
      "execution_count": 31,
      "outputs": [
        {
          "output_type": "execute_result",
          "data": {
            "text/plain": [
              "   Unnamed: 0  Customer Id  Age  Edu  Years Employed  Income  Card Debt  \\\n",
              "0           0            1   41    2               6      19      0.124   \n",
              "1           1            2   47    1              26     100      4.582   \n",
              "2           2            3   33    2              10      57      6.111   \n",
              "3           3            4   29    2               4      19      0.681   \n",
              "4           4            5   47    1              31     253      9.308   \n",
              "\n",
              "   Other Debt  Defaulted  DebtIncomeRatio  \n",
              "0       1.073        0.0              6.3  \n",
              "1       8.218        0.0             12.8  \n",
              "2       5.802        1.0             20.9  \n",
              "3       0.516        0.0              6.3  \n",
              "4       8.908        0.0              7.2  "
            ],
            "text/html": [
              "\n",
              "  <div id=\"df-dd980ba2-cba6-4c7d-92f7-ef7c48c56a2b\">\n",
              "    <div class=\"colab-df-container\">\n",
              "      <div>\n",
              "<style scoped>\n",
              "    .dataframe tbody tr th:only-of-type {\n",
              "        vertical-align: middle;\n",
              "    }\n",
              "\n",
              "    .dataframe tbody tr th {\n",
              "        vertical-align: top;\n",
              "    }\n",
              "\n",
              "    .dataframe thead th {\n",
              "        text-align: right;\n",
              "    }\n",
              "</style>\n",
              "<table border=\"1\" class=\"dataframe\">\n",
              "  <thead>\n",
              "    <tr style=\"text-align: right;\">\n",
              "      <th></th>\n",
              "      <th>Unnamed: 0</th>\n",
              "      <th>Customer Id</th>\n",
              "      <th>Age</th>\n",
              "      <th>Edu</th>\n",
              "      <th>Years Employed</th>\n",
              "      <th>Income</th>\n",
              "      <th>Card Debt</th>\n",
              "      <th>Other Debt</th>\n",
              "      <th>Defaulted</th>\n",
              "      <th>DebtIncomeRatio</th>\n",
              "    </tr>\n",
              "  </thead>\n",
              "  <tbody>\n",
              "    <tr>\n",
              "      <th>0</th>\n",
              "      <td>0</td>\n",
              "      <td>1</td>\n",
              "      <td>41</td>\n",
              "      <td>2</td>\n",
              "      <td>6</td>\n",
              "      <td>19</td>\n",
              "      <td>0.124</td>\n",
              "      <td>1.073</td>\n",
              "      <td>0.0</td>\n",
              "      <td>6.3</td>\n",
              "    </tr>\n",
              "    <tr>\n",
              "      <th>1</th>\n",
              "      <td>1</td>\n",
              "      <td>2</td>\n",
              "      <td>47</td>\n",
              "      <td>1</td>\n",
              "      <td>26</td>\n",
              "      <td>100</td>\n",
              "      <td>4.582</td>\n",
              "      <td>8.218</td>\n",
              "      <td>0.0</td>\n",
              "      <td>12.8</td>\n",
              "    </tr>\n",
              "    <tr>\n",
              "      <th>2</th>\n",
              "      <td>2</td>\n",
              "      <td>3</td>\n",
              "      <td>33</td>\n",
              "      <td>2</td>\n",
              "      <td>10</td>\n",
              "      <td>57</td>\n",
              "      <td>6.111</td>\n",
              "      <td>5.802</td>\n",
              "      <td>1.0</td>\n",
              "      <td>20.9</td>\n",
              "    </tr>\n",
              "    <tr>\n",
              "      <th>3</th>\n",
              "      <td>3</td>\n",
              "      <td>4</td>\n",
              "      <td>29</td>\n",
              "      <td>2</td>\n",
              "      <td>4</td>\n",
              "      <td>19</td>\n",
              "      <td>0.681</td>\n",
              "      <td>0.516</td>\n",
              "      <td>0.0</td>\n",
              "      <td>6.3</td>\n",
              "    </tr>\n",
              "    <tr>\n",
              "      <th>4</th>\n",
              "      <td>4</td>\n",
              "      <td>5</td>\n",
              "      <td>47</td>\n",
              "      <td>1</td>\n",
              "      <td>31</td>\n",
              "      <td>253</td>\n",
              "      <td>9.308</td>\n",
              "      <td>8.908</td>\n",
              "      <td>0.0</td>\n",
              "      <td>7.2</td>\n",
              "    </tr>\n",
              "  </tbody>\n",
              "</table>\n",
              "</div>\n",
              "      <button class=\"colab-df-convert\" onclick=\"convertToInteractive('df-dd980ba2-cba6-4c7d-92f7-ef7c48c56a2b')\"\n",
              "              title=\"Convert this dataframe to an interactive table.\"\n",
              "              style=\"display:none;\">\n",
              "        \n",
              "  <svg xmlns=\"http://www.w3.org/2000/svg\" height=\"24px\"viewBox=\"0 0 24 24\"\n",
              "       width=\"24px\">\n",
              "    <path d=\"M0 0h24v24H0V0z\" fill=\"none\"/>\n",
              "    <path d=\"M18.56 5.44l.94 2.06.94-2.06 2.06-.94-2.06-.94-.94-2.06-.94 2.06-2.06.94zm-11 1L8.5 8.5l.94-2.06 2.06-.94-2.06-.94L8.5 2.5l-.94 2.06-2.06.94zm10 10l.94 2.06.94-2.06 2.06-.94-2.06-.94-.94-2.06-.94 2.06-2.06.94z\"/><path d=\"M17.41 7.96l-1.37-1.37c-.4-.4-.92-.59-1.43-.59-.52 0-1.04.2-1.43.59L10.3 9.45l-7.72 7.72c-.78.78-.78 2.05 0 2.83L4 21.41c.39.39.9.59 1.41.59.51 0 1.02-.2 1.41-.59l7.78-7.78 2.81-2.81c.8-.78.8-2.07 0-2.86zM5.41 20L4 18.59l7.72-7.72 1.47 1.35L5.41 20z\"/>\n",
              "  </svg>\n",
              "      </button>\n",
              "      \n",
              "  <style>\n",
              "    .colab-df-container {\n",
              "      display:flex;\n",
              "      flex-wrap:wrap;\n",
              "      gap: 12px;\n",
              "    }\n",
              "\n",
              "    .colab-df-convert {\n",
              "      background-color: #E8F0FE;\n",
              "      border: none;\n",
              "      border-radius: 50%;\n",
              "      cursor: pointer;\n",
              "      display: none;\n",
              "      fill: #1967D2;\n",
              "      height: 32px;\n",
              "      padding: 0 0 0 0;\n",
              "      width: 32px;\n",
              "    }\n",
              "\n",
              "    .colab-df-convert:hover {\n",
              "      background-color: #E2EBFA;\n",
              "      box-shadow: 0px 1px 2px rgba(60, 64, 67, 0.3), 0px 1px 3px 1px rgba(60, 64, 67, 0.15);\n",
              "      fill: #174EA6;\n",
              "    }\n",
              "\n",
              "    [theme=dark] .colab-df-convert {\n",
              "      background-color: #3B4455;\n",
              "      fill: #D2E3FC;\n",
              "    }\n",
              "\n",
              "    [theme=dark] .colab-df-convert:hover {\n",
              "      background-color: #434B5C;\n",
              "      box-shadow: 0px 1px 3px 1px rgba(0, 0, 0, 0.15);\n",
              "      filter: drop-shadow(0px 1px 2px rgba(0, 0, 0, 0.3));\n",
              "      fill: #FFFFFF;\n",
              "    }\n",
              "  </style>\n",
              "\n",
              "      <script>\n",
              "        const buttonEl =\n",
              "          document.querySelector('#df-dd980ba2-cba6-4c7d-92f7-ef7c48c56a2b button.colab-df-convert');\n",
              "        buttonEl.style.display =\n",
              "          google.colab.kernel.accessAllowed ? 'block' : 'none';\n",
              "\n",
              "        async function convertToInteractive(key) {\n",
              "          const element = document.querySelector('#df-dd980ba2-cba6-4c7d-92f7-ef7c48c56a2b');\n",
              "          const dataTable =\n",
              "            await google.colab.kernel.invokeFunction('convertToInteractive',\n",
              "                                                     [key], {});\n",
              "          if (!dataTable) return;\n",
              "\n",
              "          const docLinkHtml = 'Like what you see? Visit the ' +\n",
              "            '<a target=\"_blank\" href=https://colab.research.google.com/notebooks/data_table.ipynb>data table notebook</a>'\n",
              "            + ' to learn more about interactive tables.';\n",
              "          element.innerHTML = '';\n",
              "          dataTable['output_type'] = 'display_data';\n",
              "          await google.colab.output.renderOutput(dataTable, element);\n",
              "          const docLink = document.createElement('div');\n",
              "          docLink.innerHTML = docLinkHtml;\n",
              "          element.appendChild(docLink);\n",
              "        }\n",
              "      </script>\n",
              "    </div>\n",
              "  </div>\n",
              "  "
            ]
          },
          "metadata": {},
          "execution_count": 31
        }
      ]
    },
    {
      "cell_type": "markdown",
      "source": [
        "# 3. Drop Unnecessary Columns"
      ],
      "metadata": {
        "id": "lNTp3Qn1WcA1"
      }
    },
    {
      "cell_type": "code",
      "source": [
        "df.drop(columns=['Unnamed: 0', 'Customer Id'], inplace=True)\n",
        "df"
      ],
      "metadata": {
        "colab": {
          "base_uri": "https://localhost:8080/",
          "height": 424
        },
        "id": "wC1FH_ecS9Cl",
        "outputId": "11db21bd-2061-4c15-e6e9-968566777229"
      },
      "execution_count": 32,
      "outputs": [
        {
          "output_type": "execute_result",
          "data": {
            "text/plain": [
              "     Age  Edu  Years Employed  Income  Card Debt  Other Debt  Defaulted  \\\n",
              "0     41    2               6      19      0.124       1.073        0.0   \n",
              "1     47    1              26     100      4.582       8.218        0.0   \n",
              "2     33    2              10      57      6.111       5.802        1.0   \n",
              "3     29    2               4      19      0.681       0.516        0.0   \n",
              "4     47    1              31     253      9.308       8.908        0.0   \n",
              "..   ...  ...             ...     ...        ...         ...        ...   \n",
              "845   27    1               5      26      0.548       1.220        NaN   \n",
              "846   28    2               7      34      0.359       2.021        0.0   \n",
              "847   25    4               0      18      2.802       3.210        1.0   \n",
              "848   32    1              12      28      0.116       0.696        0.0   \n",
              "849   52    1              16      64      1.866       3.638        0.0   \n",
              "\n",
              "     DebtIncomeRatio  \n",
              "0                6.3  \n",
              "1               12.8  \n",
              "2               20.9  \n",
              "3                6.3  \n",
              "4                7.2  \n",
              "..               ...  \n",
              "845              6.8  \n",
              "846              7.0  \n",
              "847             33.4  \n",
              "848              2.9  \n",
              "849              8.6  \n",
              "\n",
              "[850 rows x 8 columns]"
            ],
            "text/html": [
              "\n",
              "  <div id=\"df-e5c45f27-f519-4040-a7d0-13aa630e3d42\">\n",
              "    <div class=\"colab-df-container\">\n",
              "      <div>\n",
              "<style scoped>\n",
              "    .dataframe tbody tr th:only-of-type {\n",
              "        vertical-align: middle;\n",
              "    }\n",
              "\n",
              "    .dataframe tbody tr th {\n",
              "        vertical-align: top;\n",
              "    }\n",
              "\n",
              "    .dataframe thead th {\n",
              "        text-align: right;\n",
              "    }\n",
              "</style>\n",
              "<table border=\"1\" class=\"dataframe\">\n",
              "  <thead>\n",
              "    <tr style=\"text-align: right;\">\n",
              "      <th></th>\n",
              "      <th>Age</th>\n",
              "      <th>Edu</th>\n",
              "      <th>Years Employed</th>\n",
              "      <th>Income</th>\n",
              "      <th>Card Debt</th>\n",
              "      <th>Other Debt</th>\n",
              "      <th>Defaulted</th>\n",
              "      <th>DebtIncomeRatio</th>\n",
              "    </tr>\n",
              "  </thead>\n",
              "  <tbody>\n",
              "    <tr>\n",
              "      <th>0</th>\n",
              "      <td>41</td>\n",
              "      <td>2</td>\n",
              "      <td>6</td>\n",
              "      <td>19</td>\n",
              "      <td>0.124</td>\n",
              "      <td>1.073</td>\n",
              "      <td>0.0</td>\n",
              "      <td>6.3</td>\n",
              "    </tr>\n",
              "    <tr>\n",
              "      <th>1</th>\n",
              "      <td>47</td>\n",
              "      <td>1</td>\n",
              "      <td>26</td>\n",
              "      <td>100</td>\n",
              "      <td>4.582</td>\n",
              "      <td>8.218</td>\n",
              "      <td>0.0</td>\n",
              "      <td>12.8</td>\n",
              "    </tr>\n",
              "    <tr>\n",
              "      <th>2</th>\n",
              "      <td>33</td>\n",
              "      <td>2</td>\n",
              "      <td>10</td>\n",
              "      <td>57</td>\n",
              "      <td>6.111</td>\n",
              "      <td>5.802</td>\n",
              "      <td>1.0</td>\n",
              "      <td>20.9</td>\n",
              "    </tr>\n",
              "    <tr>\n",
              "      <th>3</th>\n",
              "      <td>29</td>\n",
              "      <td>2</td>\n",
              "      <td>4</td>\n",
              "      <td>19</td>\n",
              "      <td>0.681</td>\n",
              "      <td>0.516</td>\n",
              "      <td>0.0</td>\n",
              "      <td>6.3</td>\n",
              "    </tr>\n",
              "    <tr>\n",
              "      <th>4</th>\n",
              "      <td>47</td>\n",
              "      <td>1</td>\n",
              "      <td>31</td>\n",
              "      <td>253</td>\n",
              "      <td>9.308</td>\n",
              "      <td>8.908</td>\n",
              "      <td>0.0</td>\n",
              "      <td>7.2</td>\n",
              "    </tr>\n",
              "    <tr>\n",
              "      <th>...</th>\n",
              "      <td>...</td>\n",
              "      <td>...</td>\n",
              "      <td>...</td>\n",
              "      <td>...</td>\n",
              "      <td>...</td>\n",
              "      <td>...</td>\n",
              "      <td>...</td>\n",
              "      <td>...</td>\n",
              "    </tr>\n",
              "    <tr>\n",
              "      <th>845</th>\n",
              "      <td>27</td>\n",
              "      <td>1</td>\n",
              "      <td>5</td>\n",
              "      <td>26</td>\n",
              "      <td>0.548</td>\n",
              "      <td>1.220</td>\n",
              "      <td>NaN</td>\n",
              "      <td>6.8</td>\n",
              "    </tr>\n",
              "    <tr>\n",
              "      <th>846</th>\n",
              "      <td>28</td>\n",
              "      <td>2</td>\n",
              "      <td>7</td>\n",
              "      <td>34</td>\n",
              "      <td>0.359</td>\n",
              "      <td>2.021</td>\n",
              "      <td>0.0</td>\n",
              "      <td>7.0</td>\n",
              "    </tr>\n",
              "    <tr>\n",
              "      <th>847</th>\n",
              "      <td>25</td>\n",
              "      <td>4</td>\n",
              "      <td>0</td>\n",
              "      <td>18</td>\n",
              "      <td>2.802</td>\n",
              "      <td>3.210</td>\n",
              "      <td>1.0</td>\n",
              "      <td>33.4</td>\n",
              "    </tr>\n",
              "    <tr>\n",
              "      <th>848</th>\n",
              "      <td>32</td>\n",
              "      <td>1</td>\n",
              "      <td>12</td>\n",
              "      <td>28</td>\n",
              "      <td>0.116</td>\n",
              "      <td>0.696</td>\n",
              "      <td>0.0</td>\n",
              "      <td>2.9</td>\n",
              "    </tr>\n",
              "    <tr>\n",
              "      <th>849</th>\n",
              "      <td>52</td>\n",
              "      <td>1</td>\n",
              "      <td>16</td>\n",
              "      <td>64</td>\n",
              "      <td>1.866</td>\n",
              "      <td>3.638</td>\n",
              "      <td>0.0</td>\n",
              "      <td>8.6</td>\n",
              "    </tr>\n",
              "  </tbody>\n",
              "</table>\n",
              "<p>850 rows × 8 columns</p>\n",
              "</div>\n",
              "      <button class=\"colab-df-convert\" onclick=\"convertToInteractive('df-e5c45f27-f519-4040-a7d0-13aa630e3d42')\"\n",
              "              title=\"Convert this dataframe to an interactive table.\"\n",
              "              style=\"display:none;\">\n",
              "        \n",
              "  <svg xmlns=\"http://www.w3.org/2000/svg\" height=\"24px\"viewBox=\"0 0 24 24\"\n",
              "       width=\"24px\">\n",
              "    <path d=\"M0 0h24v24H0V0z\" fill=\"none\"/>\n",
              "    <path d=\"M18.56 5.44l.94 2.06.94-2.06 2.06-.94-2.06-.94-.94-2.06-.94 2.06-2.06.94zm-11 1L8.5 8.5l.94-2.06 2.06-.94-2.06-.94L8.5 2.5l-.94 2.06-2.06.94zm10 10l.94 2.06.94-2.06 2.06-.94-2.06-.94-.94-2.06-.94 2.06-2.06.94z\"/><path d=\"M17.41 7.96l-1.37-1.37c-.4-.4-.92-.59-1.43-.59-.52 0-1.04.2-1.43.59L10.3 9.45l-7.72 7.72c-.78.78-.78 2.05 0 2.83L4 21.41c.39.39.9.59 1.41.59.51 0 1.02-.2 1.41-.59l7.78-7.78 2.81-2.81c.8-.78.8-2.07 0-2.86zM5.41 20L4 18.59l7.72-7.72 1.47 1.35L5.41 20z\"/>\n",
              "  </svg>\n",
              "      </button>\n",
              "      \n",
              "  <style>\n",
              "    .colab-df-container {\n",
              "      display:flex;\n",
              "      flex-wrap:wrap;\n",
              "      gap: 12px;\n",
              "    }\n",
              "\n",
              "    .colab-df-convert {\n",
              "      background-color: #E8F0FE;\n",
              "      border: none;\n",
              "      border-radius: 50%;\n",
              "      cursor: pointer;\n",
              "      display: none;\n",
              "      fill: #1967D2;\n",
              "      height: 32px;\n",
              "      padding: 0 0 0 0;\n",
              "      width: 32px;\n",
              "    }\n",
              "\n",
              "    .colab-df-convert:hover {\n",
              "      background-color: #E2EBFA;\n",
              "      box-shadow: 0px 1px 2px rgba(60, 64, 67, 0.3), 0px 1px 3px 1px rgba(60, 64, 67, 0.15);\n",
              "      fill: #174EA6;\n",
              "    }\n",
              "\n",
              "    [theme=dark] .colab-df-convert {\n",
              "      background-color: #3B4455;\n",
              "      fill: #D2E3FC;\n",
              "    }\n",
              "\n",
              "    [theme=dark] .colab-df-convert:hover {\n",
              "      background-color: #434B5C;\n",
              "      box-shadow: 0px 1px 3px 1px rgba(0, 0, 0, 0.15);\n",
              "      filter: drop-shadow(0px 1px 2px rgba(0, 0, 0, 0.3));\n",
              "      fill: #FFFFFF;\n",
              "    }\n",
              "  </style>\n",
              "\n",
              "      <script>\n",
              "        const buttonEl =\n",
              "          document.querySelector('#df-e5c45f27-f519-4040-a7d0-13aa630e3d42 button.colab-df-convert');\n",
              "        buttonEl.style.display =\n",
              "          google.colab.kernel.accessAllowed ? 'block' : 'none';\n",
              "\n",
              "        async function convertToInteractive(key) {\n",
              "          const element = document.querySelector('#df-e5c45f27-f519-4040-a7d0-13aa630e3d42');\n",
              "          const dataTable =\n",
              "            await google.colab.kernel.invokeFunction('convertToInteractive',\n",
              "                                                     [key], {});\n",
              "          if (!dataTable) return;\n",
              "\n",
              "          const docLinkHtml = 'Like what you see? Visit the ' +\n",
              "            '<a target=\"_blank\" href=https://colab.research.google.com/notebooks/data_table.ipynb>data table notebook</a>'\n",
              "            + ' to learn more about interactive tables.';\n",
              "          element.innerHTML = '';\n",
              "          dataTable['output_type'] = 'display_data';\n",
              "          await google.colab.output.renderOutput(dataTable, element);\n",
              "          const docLink = document.createElement('div');\n",
              "          docLink.innerHTML = docLinkHtml;\n",
              "          element.appendChild(docLink);\n",
              "        }\n",
              "      </script>\n",
              "    </div>\n",
              "  </div>\n",
              "  "
            ]
          },
          "metadata": {},
          "execution_count": 32
        }
      ]
    },
    {
      "cell_type": "markdown",
      "source": [
        "# 4. EDA and Cleaning"
      ],
      "metadata": {
        "id": "Efk34vA6Y13u"
      }
    },
    {
      "cell_type": "code",
      "source": [
        "df.info()"
      ],
      "metadata": {
        "colab": {
          "base_uri": "https://localhost:8080/"
        },
        "id": "lxbbptubTGkL",
        "outputId": "89b94440-1d0d-417d-9e3e-174ec7c70942"
      },
      "execution_count": 33,
      "outputs": [
        {
          "output_type": "stream",
          "name": "stdout",
          "text": [
            "<class 'pandas.core.frame.DataFrame'>\n",
            "RangeIndex: 850 entries, 0 to 849\n",
            "Data columns (total 8 columns):\n",
            " #   Column           Non-Null Count  Dtype  \n",
            "---  ------           --------------  -----  \n",
            " 0   Age              850 non-null    int64  \n",
            " 1   Edu              850 non-null    int64  \n",
            " 2   Years Employed   850 non-null    int64  \n",
            " 3   Income           850 non-null    int64  \n",
            " 4   Card Debt        850 non-null    float64\n",
            " 5   Other Debt       850 non-null    float64\n",
            " 6   Defaulted        700 non-null    float64\n",
            " 7   DebtIncomeRatio  850 non-null    float64\n",
            "dtypes: float64(4), int64(4)\n",
            "memory usage: 53.2 KB\n"
          ]
        }
      ]
    },
    {
      "cell_type": "code",
      "source": [
        "mode = df['Defaulted'].mode()[0]\n",
        "df['Defaulted'].fillna(mode, inplace=True)\n",
        "df.isna().sum()"
      ],
      "metadata": {
        "colab": {
          "base_uri": "https://localhost:8080/"
        },
        "id": "2a3bFRM5TKTz",
        "outputId": "a7552de7-f497-4a71-caf4-b5777ed894c3"
      },
      "execution_count": 34,
      "outputs": [
        {
          "output_type": "execute_result",
          "data": {
            "text/plain": [
              "Age                0\n",
              "Edu                0\n",
              "Years Employed     0\n",
              "Income             0\n",
              "Card Debt          0\n",
              "Other Debt         0\n",
              "Defaulted          0\n",
              "DebtIncomeRatio    0\n",
              "dtype: int64"
            ]
          },
          "metadata": {},
          "execution_count": 34
        }
      ]
    },
    {
      "cell_type": "markdown",
      "source": [
        "# 5. Scale Data"
      ],
      "metadata": {
        "id": "tm9FBjiZY6l9"
      }
    },
    {
      "cell_type": "code",
      "source": [
        "x_scaled = StandardScaler().fit_transform(df)\n",
        "x_scaled"
      ],
      "metadata": {
        "colab": {
          "base_uri": "https://localhost:8080/"
        },
        "id": "hMnikckdTVzL",
        "outputId": "2e5d301a-c1fd-4674-d4c3-8f82df35a9e2"
      },
      "execution_count": 35,
      "outputs": [
        {
          "output_type": "execute_result",
          "data": {
            "text/plain": [
              "array([[ 0.74291541,  0.31212243, -0.37878978, ..., -0.59048916,\n",
              "        -0.52379654, -0.57652509],\n",
              "       [ 1.48949049, -0.76634938,  2.5737211 , ...,  1.51296181,\n",
              "        -0.52379654,  0.39138677],\n",
              "       [-0.25251804,  0.31212243,  0.2117124 , ...,  0.80170393,\n",
              "         1.90913822,  1.59755385],\n",
              "       ...,\n",
              "       [-1.24795149,  2.46906604, -1.26454304, ...,  0.03863257,\n",
              "         1.90913822,  3.45892281],\n",
              "       [-0.37694723, -0.76634938,  0.50696349, ..., -0.70147601,\n",
              "        -0.52379654, -1.08281745],\n",
              "       [ 2.1116364 , -0.76634938,  1.09746566, ...,  0.16463355,\n",
              "        -0.52379654, -0.2340332 ]])"
            ]
          },
          "metadata": {},
          "execution_count": 35
        }
      ]
    },
    {
      "cell_type": "markdown",
      "source": [
        "# 6. Tune a KMeans Model and Cluster the Scaled Data"
      ],
      "metadata": {
        "id": "CU4Zi41HY9EU"
      }
    },
    {
      "cell_type": "code",
      "source": [
        "ks = range(2, 11)\n",
        "\n",
        "inertias = []\n",
        "sils = []\n",
        "\n",
        "for k in ks:\n",
        "  model = KMeans(n_clusters=k)\n",
        "  model.fit(x_scaled)\n",
        "  inertias.append(model.inertia_)\n",
        "  sils.append(silhouette_score(x_scaled, model.labels_))\n",
        "\n",
        "plt.plot(ks, inertias)\n",
        "\n",
        "plt.show()\n",
        "\n",
        "plt.plot(ks, sils)\n"
      ],
      "metadata": {
        "colab": {
          "base_uri": "https://localhost:8080/",
          "height": 530
        },
        "id": "Ts24NMj2UlvK",
        "outputId": "8e5a5793-6d7b-41f3-80a6-e20f5b52ef21"
      },
      "execution_count": 36,
      "outputs": [
        {
          "output_type": "display_data",
          "data": {
            "text/plain": [
              "<Figure size 432x288 with 1 Axes>"
            ],
            "image/png": "[encoded data removed]"
          },
          "metadata": {
            "needs_background": "light"
          }
        },
        {
          "output_type": "execute_result",
          "data": {
            "text/plain": [
              "[<matplotlib.lines.Line2D at 0x7f9053393650>]"
            ]
          },
          "metadata": {},
          "execution_count": 36
        },
        {
          "output_type": "display_data",
          "data": {
            "text/plain": [
              "<Figure size 432x288 with 1 Axes>"
            ],
            "image/png": "[encoded data removed]"
          },
          "metadata": {
            "needs_background": "light"
          }
        }
      ]
    },
    {
      "cell_type": "code",
      "source": [
        "kmeans_model = KMeans(n_clusters=2)\n",
        "\n",
        "kmeans_model.fit(x_scaled)"
      ],
      "metadata": {
        "colab": {
          "base_uri": "https://localhost:8080/"
        },
        "id": "7MjLAr67VJkk",
        "outputId": "dda12685-081c-40d0-b3a1-f029359137fd"
      },
      "execution_count": 37,
      "outputs": [
        {
          "output_type": "execute_result",
          "data": {
            "text/plain": [
              "KMeans(n_clusters=2)"
            ]
          },
          "metadata": {},
          "execution_count": 37
        }
      ]
    },
    {
      "cell_type": "markdown",
      "source": [
        "# 7. Transform the Scaled Data with PCA"
      ],
      "metadata": {
        "id": "PyI88SVRZNK_"
      }
    },
    {
      "cell_type": "code",
      "source": [
        "pca = PCA()\n",
        "pca_df = pca.fit_transform(x_scaled)"
      ],
      "metadata": {
        "id": "oP10c615Vm0d"
      },
      "execution_count": 38,
      "outputs": []
    },
    {
      "cell_type": "markdown",
      "source": [
        "# 8. Plot the Clusters\n",
        "\n",
        "- The x axis should be the first principal component, you can extract this from the PCA array with `pca_data[:,0]`\n",
        "\n",
        "- The y axis should be the second principal component, you can extract this from the PCA array with `pca_data[:,0]`\n",
        "\n",
        "- The `c` argument should be the labels from the kmeans model."
      ],
      "metadata": {
        "id": "Ubfzz4_rZWRd"
      }
    },
    {
      "cell_type": "code",
      "source": [
        "plt.scatter(pca_df[:,0], pca_df[:,1], c=kmeans_model.labels_)"
      ],
      "metadata": {
        "colab": {
          "base_uri": "https://localhost:8080/",
          "height": 282
        },
        "id": "h37sbylFVzfc",
        "outputId": "560b3319-0817-49b6-b73f-799f7942d70c"
      },
      "execution_count": 39,
      "outputs": [
        {
          "output_type": "execute_result",
          "data": {
            "text/plain": [
              "<matplotlib.collections.PathCollection at 0x7f90533ba310>"
            ]
          },
          "metadata": {},
          "execution_count": 39
        },
        {
          "output_type": "display_data",
          "data": {
            "text/plain": [
              "<Figure size 432x288 with 1 Axes>"
            ],
            "image/png": "[encoded data removed]"
          },
          "metadata": {
            "needs_background": "light"
          }
        }
      ]
    },
    {
      "cell_type": "markdown",
      "source": [
        "# 9. BONUS Plot 3 components with Plotly Express\n",
        "\n",
        "x, y, and z should be the first 3 components and color should be the KMeans model clusters.\n",
        "\n",
        "[scatter_3d documentation](https://plotly.com/python-api-reference/generated/plotly.express.scatter_3d)"
      ],
      "metadata": {
        "id": "Rh3A_by2Z_rl"
      }
    },
    {
      "cell_type": "code",
      "source": [
        "import plotly.express as px"
      ],
      "metadata": {
        "id": "XS4MvMs7V-Y8"
      },
      "execution_count": 40,
      "outputs": []
    },
    {
      "cell_type": "code",
      "source": [
        "px.scatter_3d(x=pca_df[:,0], y=pca_df[:,1], z=pca_df[:,2], color=kmeans_model.labels_)"
      ],
      "metadata": {
        "colab": {
          "base_uri": "https://localhost:8080/",
          "height": 542
        },
        "id": "l0AUq7QbW20U",
        "outputId": "00203636-f457-4d5b-e53a-ac1ae651d341"
      },
      "execution_count": 41,
      "outputs": [
        {
          "output_type": "display_data",
          "data": {
            "text/html": [
              "<html>\n",
              "<head><meta charset=\"utf-8\" /></head>\n",
              "<body>\n",
              "    <div>            <script src=\"https://cdnjs.cloudflare.com/ajax/libs/mathjax/2.7.5/MathJax.js?config=TeX-AMS-MML_SVG\"></script><script type=\"text/javascript\">if (window.MathJax) {MathJax.Hub.Config({SVG: {font: \"STIX-Web\"}});}</script>                <script type=\"text/javascript\">window.PlotlyConfig = {MathJaxConfig: 'local'};</script>\n",
              "        <script src=\"https://cdn.plot.ly/plotly-2.8.3.min.js\"></script>                <div id=\"a16e9187-6ecc-4217-81c6-8171982abf36\" class=\"plotly-graph-div\" style=\"height:525px; width:100%;\"></div>            <script type=\"text/javascript\">                                    window.PLOTLYENV=window.PLOTLYENV || {};                                    if (document.getElementById(\"a16e9187-6ecc-4217-81c6-8171982abf36\")) {                    Plotly.newPlot(                        \"a16e9187-6ecc-4217-81c6-8171982abf36\",                        [{\"hovertemplate\":\"x=%{x}<br>y=%{y}<br>z=%{z}<br>color=%{marker.color}<extra></extra>\",\"legendgroup\":\"\",\"marker\":{\"color\":[0,1,1,0,1,1,0,0,0,1,0,0,0,0,0,0,0,0,1,0,0,0,0,1,1,0,0,0,0,0,1,1,0,0,0,0,0,0,0,1,0,1,0,1,0,1,0,0,0,0,1,1,0,1,1,0,0,0,0,0,1,0,1,1,0,0,0,0,0,0,0,0,0,0,0,0,0,0,1,0,0,1,1,0,1,0,0,0,0,0,0,0,0,0,0,0,0,0,0,0,0,1,0,0,0,1,0,0,0,0,0,0,0,0,0,0,0,0,1,0,0,0,0,0,0,0,0,0,0,0,0,0,0,0,0,0,0,0,0,0,0,0,0,0,1,0,1,0,0,0,0,1,0,0,0,0,1,1,0,0,0,1,0,0,0,0,0,0,0,0,1,0,0,0,0,1,0,0,0,1,0,0,0,1,0,1,0,0,0,0,0,1,0,0,0,0,0,1,1,0,1,0,0,0,0,1,0,1,1,0,0,0,0,0,0,0,1,1,0,0,0,1,0,0,0,0,1,0,0,1,0,0,0,0,1,0,0,0,1,0,0,0,0,0,0,1,0,1,0,0,0,0,0,0,1,0,0,0,0,0,0,1,0,0,1,0,0,1,0,0,0,0,0,0,0,0,0,0,0,0,0,1,1,0,1,0,1,0,0,1,0,0,0,1,0,0,0,0,0,1,0,0,0,0,0,0,1,0,0,0,0,0,0,0,0,0,0,0,0,0,1,0,1,0,0,0,0,0,0,1,0,1,0,0,0,0,0,1,0,0,0,0,0,0,1,0,0,0,0,0,1,0,0,0,0,0,1,0,0,0,1,0,0,0,0,0,0,1,1,0,0,0,1,0,0,0,0,0,0,0,0,0,0,0,1,0,1,0,0,0,0,1,0,1,0,0,0,1,0,0,0,0,0,0,0,1,0,1,0,0,0,0,0,0,0,0,1,0,1,0,0,1,0,0,1,1,0,0,0,0,1,0,0,0,1,0,0,0,1,0,0,0,0,1,1,0,0,0,0,0,1,0,0,0,1,0,0,0,0,1,0,1,0,0,0,0,0,0,0,1,1,0,0,1,0,0,0,0,0,0,0,0,0,0,0,0,0,1,0,0,0,1,0,1,0,0,0,1,0,0,0,0,1,1,0,0,0,0,0,0,0,0,0,1,0,0,0,0,0,1,1,0,0,0,0,0,0,0,0,0,0,0,1,1,0,0,0,0,0,0,1,0,0,0,0,0,0,0,1,0,1,1,0,1,0,0,1,0,0,0,0,0,0,0,0,0,1,0,1,0,0,1,0,0,0,0,0,0,0,0,1,0,0,0,0,1,0,0,0,1,0,1,0,0,0,0,0,0,0,0,0,0,0,1,0,1,0,0,0,0,0,0,0,0,0,0,0,0,0,0,1,0,0,0,0,0,0,0,1,1,1,0,0,0,1,0,0,1,0,1,0,0,1,0,1,1,1,0,0,0,0,0,1,1,0,0,0,1,1,0,0,0,0,1,0,0,0,0,0,0,1,0,1,0,0,1,0,0,0,0,0,0,0,1,0,0,0,0,0,0,0,0,0,1,0,0,1,0,0,0,0,0,0,0,0,0,0,0,1,0,1,0,1,1,0,0,0,1,0,1,0,0,0,0,0,1,0,0,0,0,1,1,0,0,1,0,0,0,0,0,0,0,0,0,0,0,1,0,0,0,0,0,0,0,0,0,0,0,1,0,1,1,0,0,0,0,0,0,0,0,0,0,0,0,0,0,1,0,0,0,0,0,0,0,1,0,0,0,0,0,0,1,1,1,0,0,0,0,0,0,0,1,0,0,0,0,0,0,1,0,0,0,0,0,0,0,0,0,0,0,0,0,0,0,0,1,1,0,0,0,1,0,0,0,0,0,0,0,0,0,0,0,0,0,0,0,0,0,0,1],\"coloraxis\":\"coloraxis\",\"symbol\":\"circle\"},\"mode\":\"markers\",\"name\":\"\",\"scene\":\"scene\",\"showlegend\":false,\"x\":[-0.9488997656057563,3.5787332102032376,1.9440578489883502,-1.5484112326699198,6.624871950522639,1.977027017461049,-0.9388328180992174,-0.18036512646815173,-1.1724829189145227,1.988826786354998,0.8841365652189778,-1.0528981527727008,-1.694900172936366,0.39079786822422796,-1.364258303217255,-1.9573283391309282,-2.1175578681587184,-0.4265062919315085,1.4268619936095432,0.011082498853778922,-1.4611863217610481,0.3638358339835448,1.0074151457371083,1.5825966608420847,3.985445214662077,0.6993405200252224,-2.09278130855837,0.7772583392883426,-0.27456600844956436,-0.08253222304106818,0.9191221127535575,1.3653035891727445,-1.6920067576099067,-0.416599174610926,-0.4373935765607081,-0.7279904032412539,-0.7787042993244466,-0.9981231112215022,-2.2808949134397842,2.079497303146021,-1.9026072648343613,3.4113368843879113,0.42279063487406143,2.5602552704624983,0.46284573187681105,1.9855416410109468,-1.4563987517886132,-1.763284130230732,-1.903282892142546,-0.3193219452372426,1.4470012689585925,1.5758795113829933,-0.6562973856511787,1.0331096593401687,1.7549293737628566,-0.8937342515384398,-1.7059433530864654,-1.540215218043048,0.12873792714552162,-0.06986698283570802,1.4472230424021275,0.5865041212741207,1.4723256652699472,2.3577275908386857,-1.9371707235694997,-0.5448528692746301,0.28395932723707085,-1.0816965313635392,-0.6328990257192345,-1.386753097671921,-0.7418121844396115,-0.2773976230649406,0.9422669717098408,-0.11123437167100104,-1.1685929539555628,-0.9964249940895442,-0.5419660260148442,-1.339528829342418,4.2250244971487065,0.5337612386499917,0.6822955843398185,2.6087686754282653,3.000416215712285,-0.6535270460592171,1.3333412755477736,-2.155024123754644,-1.3153463759581974,-1.5024994152040705,-0.8213832956126718,-0.5395282670482974,-0.016227218010051343,-1.2651063099231974,-1.8835477505377518,-0.9370034815970297,-1.245114898908625,-0.5579382336606473,-0.8485746578659223,-1.0484748488199591,-0.31770086660924496,-2.118215617530709,0.5619299587539625,3.8765237661121517,0.3893568832526527,0.13455134944468608,-1.0088633306207813,3.3976370288800757,-0.9812394646566629,-0.782366098480837,-0.6991988365476706,0.5417615650915217,-0.006986639572937325,-0.4951087169479332,-0.42721043607256515,-1.4864882478217765,-0.9909751186662834,-0.46803926546969976,-1.3751416349676284,0.11822178174393692,1.8158889530229414,-1.1677784316312543,-1.0723379032165101,-0.9476293316198138,-0.7168523988063956,0.017422008419220116,-0.3391568585924033,0.34347572216246164,-1.3576580800151465,-1.6735927777947532,-0.9332512166320454,-2.3217551626953075,-0.5984775061927736,0.6521260427645481,-0.7290158652041916,-1.3389046968666165,-0.646179720611524,-0.46321831009299663,0.8387061871240579,-1.5208032441926613,-0.01181090666433112,0.32484719742561496,0.9293701621134083,-1.8624411902082147,-0.5136256442629689,-0.8767076165895668,3.1581559968736372,-0.27120106097718116,0.9855020264164187,0.6331149350603886,-1.505795190820775,-1.6331550375416803,-0.8551305229562552,1.3399584047369857,-0.4602465718628529,-0.3166530288219869,0.01828886695604879,0.9264638345212786,1.12669411980323,1.9563165522591492,-0.790397571536145,0.9965245822156424,-2.1724242655308545,1.1152207719929923,-0.2306878897540098,0.081072165919334,-1.0670895403385527,-0.9947311277548706,-0.9383785213133676,-1.453521039554118,-1.5838918639615345,0.3040631858552511,2.669092965792772,-1.007280603768216,-1.213322916540829,-0.551484832146406,-0.978022822590647,1.2377220546847845,0.16835803581145156,-1.639094156497791,-0.32653997524282746,1.4369775144489796,0.6294183763053189,-0.3588282463139465,-1.6445035160382697,8.602568125378337,0.15963289043167983,1.3319559091413622,-0.7048683212619299,-0.47640510576860656,0.7502731746707102,-0.06337579077648575,0.06903189258396975,1.5594376197367683,-0.16532592720239853,-1.579388255842904,0.330502116340119,-0.5159267421909184,-2.204115033701172,2.190287166354499,9.383586012451044,-1.4045061304114672,3.164155044197405,-1.465386305794183,-1.1183392589071879,-1.1004143407821974,-0.8260907039656804,1.262753302992351,-1.1540567734372107,3.5500067688118704,1.032309760699406,-1.4926731173442973,-0.8498197211737695,-0.6098395731990859,-0.2384979185645628,0.5492952546952777,-0.7228931037220686,-1.1619498445094525,1.0740537850634884,1.921004588583527,0.6914100269132939,0.1665257497701988,-1.6249940971187173,1.8888369300739714,-0.9819007496979528,-1.7795442764909315,-1.2526300962080699,-1.4145475030144332,3.791333431813151,-1.4607696332818831,0.6083153134490512,1.4704511772217146,-0.7119344331222229,0.1986001283063481,0.9735747355881502,-1.447223762774922,3.0166076742662042,-2.1948235658636888,0.7411150115848519,-1.4809030844388897,1.579550217428965,-1.7435764795784394,-1.0096058585388663,-0.5444144100044459,-1.4568453583366703,-1.3087644539590295,-0.8136878255811122,2.6088227850577406,0.37078405482025223,1.20631863634343,0.02445952495825835,-1.0325392526802353,-1.1458873075149276,-0.6737091774519316,-0.7490690739898699,-0.1984620991440182,1.3708953754258861,1.0257385566749324,0.34053286290055435,-1.777167408671431,-2.297583509065078,-1.592757179894477,-1.1078589685249305,1.381953951913165,0.8773906496674285,-1.244466154485299,2.487276473164569,0.1031063152266863,-0.5736748869199176,1.7047392873027336,-1.058741109059553,-0.4370183852672047,-0.8597540497717373,-1.6233290133401175,-0.8422550695577974,0.49333199410222967,-0.5855313765052551,-2.0233981528635985,-0.7128963699669376,1.0221087600392318,-0.9925347832223276,-1.282769324550068,-1.9239735739727626,11.0060283986679,1.0961289897648074,-1.902042532338546,2.6664653758748913,-1.2733470863191945,1.4636186108297944,-1.467805975491047,0.6437256788368115,2.060857888357019,-1.482141766463897,-0.29184192221413835,-2.021692398144512,1.664340888532441,-1.3949717887346547,-1.389412008012738,-1.4832998619718798,-0.9988703981124978,-1.1963632259877692,2.7261222412135115,0.7895729871078772,0.2937313325909376,-1.809868451119545,-1.2158861703990798,-0.7758973134681207,0.12744391885406864,1.0825889534367583,0.017987614578914873,0.2560408315002229,-0.4490901127558709,-0.5081355583711691,-1.5228850836691814,-0.7844429675778738,-1.9397670952930524,-0.013129474228874482,-2.157237959370321,-1.047059856776084,-0.9449667509662898,-0.34143717415369745,-1.179684363715338,4.40440495081417,-0.9227394042924147,1.8614846804962715,-1.894309994457063,-2.3409153644061305,-0.12094647524686059,-1.2325215115022512,-1.4678321338835274,0.2851879853666657,1.0868173298761037,0.47129612683708,3.609196631803096,-1.5887425170138685,0.04012891805279278,-0.12646715634238204,0.746852264138218,-2.441209303678532,2.7075666469665998,0.1576481418922091,0.7043358166452269,0.5385455582509964,-0.08575971539999606,-0.9965327402305457,-0.044945912965006475,3.060120439409575,-0.4852932729879143,-1.3502306619052713,-0.20709012477250235,-2.346140079970928,-0.9737760464192581,8.092082351408063,-1.7958389701278215,-0.48302140766018087,-1.3469083327398585,-1.2766780281592853,-0.4931833330332931,3.950101898356863,-0.6397112073563437,-1.147577425104456,-1.545552225572597,2.6497529143218257,-0.15854405087332502,-1.80498857450334,-1.5314703827774432,0.3955879951807277,-1.3255410575439883,0.48548224795296674,1.6336959495730043,3.103405271609039,-0.04102273362707891,-1.87805694557459,-0.7633933736061443,1.4188502750159206,-0.22761948900973467,-0.18456678567260115,-0.3339919143478873,0.39368269215874563,0.002403194085395943,-1.6579871200869623,-1.8370252195606616,-0.6308468451631504,-1.7134476935505762,-2.4171124678004703,-0.2517032489825044,4.21437794908195,-0.4491410181911975,1.2997958981581876,-0.6934369773366861,-1.2604076704561977,-1.431612125548127,-0.7444351974082754,2.248130534926114,-0.5806902871520082,1.620266972320623,-1.3991518033956396,-0.05789595123764532,-1.5428225974698244,1.915867082589068,-0.745272107865365,-1.3838562766070512,-0.7214669823053873,-1.3809777783412958,-1.1114759532015885,-1.5866527185874608,-0.7719755169132967,2.023898122442117,-0.29365066854185917,1.8018993663922165,0.5508246528192405,-0.5616495617561527,-0.6170489706158256,0.35450168945443317,0.7038777015642163,0.03221209978246049,-1.44133920869578,0.4105907148577171,2.1982713855559037,-0.5885565062779053,1.8291627650447695,-1.4047590394250993,0.5962288797197408,1.973055144459608,-0.9173723757844168,-0.6636917699807529,4.298175643287116,1.241617104611657,-0.9897694135376298,0.7151835907463696,0.21020726786475433,-1.842674110330652,1.9498885687691871,0.5517509298010101,-1.426945347954755,-1.9537380378977083,2.7550453995923534,-1.2484328163117193,-1.2369275011646819,-1.7762749682808132,3.2483822257207735,0.42086798369492456,-0.5530119899970538,-0.01578418879628172,-0.9666923047574102,6.662206243577395,1.0484758868339847,0.5053910818598983,-0.758699315588957,0.09326456102821187,0.34288040764669486,-0.7380936684195161,4.506089114389569,-0.25815545821972186,-1.737126352717046,-1.5855104642211846,5.2634792845993505,-1.00801086902863,-0.6381544222893523,-0.9660865087437083,-1.176783399027141,1.5837267223831155,-0.6084161797350032,4.82136474854173,-0.6923488228774752,-0.11591988620459755,-1.5705607291113326,-0.5779118651641273,0.3323511883248214,-1.5298315027967146,-0.21274063007609068,2.4746604925608535,2.5617000331981505,0.1646992435133808,0.6649238295100238,1.7567367522957882,0.22831258619720732,-1.7248060638466816,0.27838639379163693,-1.0862618284383345,-0.9559486025937418,-0.17287323873729618,-0.0020718841686087506,0.11415337312469286,0.11677111209725449,-1.4140828016307823,-0.6876805359058525,-1.1489380629622314,0.8789422624467222,3.003906597375103,-1.413176582735016,-1.980196032299178,-0.5849677658883061,2.7328863397632697,-0.30738056717925355,2.0380678953354914,-0.4463767074614724,-1.3160013693319987,-1.2267669315522756,6.178596649401885,0.20201050446257385,-2.0304251220624407,-1.0356919384588705,-0.8998474925436275,2.683404346591821,2.462920068117965,-1.3506432714098633,-0.6826079710240007,-0.3266059643024045,0.43676667203150277,0.8762199925813902,-0.17885004197659776,-1.0697231243842087,-0.8956565047106647,-0.7659839584927927,8.054065996161377,0.07219855518091431,0.31661988248608347,-1.3481491721461907,-0.9889486889515363,-1.6798558926503404,1.4979503863028854,2.2349175642199266,-0.610942105535169,-1.20361358937824,-1.1309003899910555,0.5265530831484122,-1.2429193857610619,-1.009485073531297,0.5632203329392804,-0.48415727575399703,-0.7264271470059843,-1.4104709046665733,0.658467064160704,10.329004082493263,3.1066996697500637,-1.4031771713602816,-0.7911176469440407,-1.5805453791842583,-1.1236711751224178,-0.9811068264562494,1.0039583083504795,1.4480222201977824,-1.0805175628574213,-1.3606220834363147,0.5427080451769781,0.1848837418782902,0.15518290608904328,0.004709267019854808,-0.7716289178750702,1.3166294945652488,-2.146338089575823,2.4611731594319064,3.534343625943627,-0.9853262618039493,2.3383973066646595,-0.5967809238014282,-0.08217209314368293,6.0924192568352105,-0.7602644817682911,-0.47629159153569894,-1.9946864485813722,0.13815689810463744,0.24660812564851803,-0.3830518828694938,1.0057632879898553,-1.5863227475669417,0.08962869253257316,1.3968973321672304,-1.8295988498207765,4.15278800178122,-1.8266059863990654,-0.29939364111738803,7.283960151686482,-0.2516680292227531,-1.7789792437836465,-0.22184646804600397,-0.02170736044216395,-0.6723638533722651,-1.4111408449396605,-1.4015808057683972,1.0486214544008445,3.7760114740060424,-1.3768730054339364,-0.00027519682425486034,-0.3016495065301727,-0.07683762738790127,1.432894288075122,0.6232655178982154,-1.1967635038889777,-1.3059162119316776,1.2816753962835312,-1.0877707927558635,2.0934751247706314,0.1632242879216046,0.9440247966440357,0.4988700342340131,-1.372873988993414,-2.0232407577602127,-1.8905627251796249,0.7393675521288603,0.24057451556853593,-0.6793743424099478,0.22692913537329817,-1.3400222568040467,3.171003222092962,-0.971746344658968,1.8930219311607779,-0.08808560567063077,-0.8625711940707055,-0.8373701293722883,-0.9717200024623952,-1.2103738058236742,-1.2629604904658815,-1.883371072244208,-1.3630596880747905,0.37995987414548765,0.1400208836818137,0.9051281294956047,-1.3511374125716233,-0.38721632458400956,-0.8065273795376303,4.331406352595193,-1.1120004648218942,-0.7109861644620756,-0.004730251523389289,-1.8654889428541142,0.38670512626751935,-1.5509132669624122,-2.360507540242275,1.3214408863386375,4.041315387700155,0.996934362526431,-0.3348403406195952,0.5995269438277823,0.027632608976806423,3.3453797601345516,-1.3137678393347352,0.12751973489489474,2.0927504539147748,-0.7120881070399977,1.7564773778606257,-1.4108775076739541,-1.9731534594525817,3.612582083408176,-1.6799441189237072,1.3416101679114898,1.6798159249778872,1.6010403509374986,-1.1800606950995933,-0.9443284857419689,-1.0243420577676936,-1.8117356424259665,-1.2938815363083436,2.9832876279794736,1.8868186205935709,-1.8652365748820259,-1.7838349255605102,-1.2484964843770263,4.0232394234318365,1.6096771668261103,-1.4891469044844396,-1.3389536323297855,-1.1283896323087208,0.05376385344167851,2.8938733389766638,-0.4376648871544834,-0.7540415465690367,0.7744905883069128,-0.9679907403268823,-1.4737756160788238,-0.23366735321139148,1.0051243875076707,0.14410529048911594,5.661530190001988,-1.6014476195870293,-1.4566672715323146,1.5401863969578222,-1.2201274712227028,0.2956229731141162,-0.19244537149433086,-0.32752349230691535,0.7003928855793933,-1.5882435946417246,0.4934844340427335,2.1637483582158548,-1.8337371247247263,-0.21964090077067153,-1.1614031253546118,0.545465334735226,-0.8457065667417688,-1.2295317424958248,-2.259846454303108,-0.9909407071065893,-0.7080063585669538,2.1205692588707072,-1.8439448300200516,-1.0048234170195924,1.1749379665090898,-0.3552667884496532,-1.3411179369412145,-1.7263898777708913,-0.7913236659318674,0.26244097757242213,-1.5289892142150803,-2.0624578245385754,-1.799677072673084,0.78815198839612,-0.8402046397419017,-1.511031548278281,2.326528729927664,-0.34746114093228125,2.249648412204355,-0.8950824173984517,1.9732836528149034,4.993229632570546,-0.7578022067417832,0.5158992500537777,-0.8932456803830485,1.8067182779966675,-0.2890604429126352,3.1003369831953727,-0.9641317547624975,-0.5352908933121199,-0.4193499183307474,0.09246942010586376,-0.21476656964687163,3.9709041140442207,-1.3771159595487128,-0.3381746188926566,-1.7425338488531967,0.008714427676367292,1.2503534051791114,1.2837617569024666,-1.207164594371709,-0.8717677301172291,3.5407719308416636,-0.2815747266611482,-0.5470250131197328,-0.4323954652400545,-0.28355027244299047,-0.10322366268484402,0.6194708752164562,0.7411034931462569,-1.9817357861244198,0.5555523506339705,-0.5160443848073571,0.5966561250447118,1.333225950003053,0.7201409340493258,-1.6274458715575753,-0.7091604898549722,-0.7759818803961333,-1.1975713004764084,-0.8809970453058307,-0.2631426479755245,-1.0428818647709344,-0.44639369312601784,-1.4135694151179736,-2.0187024140890335,1.6251142331784552,0.08245335877670402,3.418326020640276,1.5142149889013032,-1.5541715420113267,0.14682862713313494,-2.053478479179866,-0.26011986335762877,-0.4562549755915981,-0.1772514147343826,-0.8671603737221449,0.8523303937979839,-1.6336679983405964,-1.6282756574643007,-1.0447685140466687,-0.7115937322137107,0.5821306809008587,0.9079014543931389,3.906623979630315,-0.4291856974513579,0.743505622646888,0.5832866318098313,-1.194630141319122,-0.6325298454975256,-0.6884400050261141,0.050143867055316926,3.5757969992796603,-1.579008227768051,-0.20101739407239755,-0.2085202243081266,-0.6431309775992214,-0.839834045448396,-0.10505196435772729,8.319649660413322,1.3610109033187279,1.7328322561885872,-1.9641936464021355,-1.2160171131164095,-1.1391749201193118,-1.6442530504765942,-0.365990245457275,-1.28096928713435,-1.8278413088370509,2.5447740909950154,-1.9905328189096192,-0.516290536906359,-0.5618499307803392,-1.437227928024758,0.3507768693213792,-0.8044045120146393,1.9311755396045969,-0.7273529357228672,-0.7692691021054181,-1.8738031405153122,-1.6490890529027957,0.06302648174043414,-1.216850033470355,-1.0762207120779854,-1.0402405810595343,-1.6879216652632543,-0.5431840423446005,-0.30589875344850204,-0.6496350844102557,0.9161665931492893,-1.284149959191827,-0.9932394814387031,0.18635323194570938,1.2086801335423685,3.4512696530070928,-0.08377319881991445,-1.1262925049449308,-1.2615997809280681,1.6235188133310243,-1.1003435267259938,0.4574779030295705,-0.2251901138549476,-1.1167225660202427,-0.2261988446190178,-1.7729897876937881,-1.1029499142122492,-1.18345413066289,-1.2442099072995212,-0.4846725551589317,-0.4730461144883583,-0.9263199231073097,-0.8743539005513477,-0.6137394768410602,-1.488243483868299,-1.0661444985189368,0.07262956501283262,-1.1409173701698612,1.3934377155343844],\"y\":[-0.7583929187711876,-1.309584714901841,2.5507143893719006,-0.1555216454670545,-2.3325969166834346,-1.3340008403287997,-1.115465611636173,-0.32819463271901494,0.5821285351174278,-2.2865171974034486,0.353125561906097,-1.1795769410604058,-0.2866509532778008,0.051358218527689604,1.7460220098426893,0.2883311849541975,-0.5188558640844293,0.25194023897382234,-1.136687782594201,-0.8442056746134163,-0.4876391616258324,0.07981519192645194,2.9212006029361537,-1.5481754758707025,1.130673549580147,-0.8423389545954145,-0.5074512134393591,-0.6750779912862062,-1.5536809230328434,-0.2493363439247051,-1.8511948745817708,-0.09575971381841612,1.3463450410265858,-0.09578480800176993,-0.5749290880177451,-0.16461279511332427,0.911378380114709,1.5809307645946082,-0.07272586895700908,-1.1428945726453565,1.637218623649756,-0.660388880176697,1.6944126352961775,-0.6090015676922907,0.4915533230770176,-0.09450454658444007,0.9401920077476065,-0.6462885647401923,-0.4483154813858166,-0.5811347902077487,-2.2122433156656083,1.6549303866352423,2.962635464352391,-2.6482928735502123,2.966893068040008,1.514640695383323,0.8993558844998846,0.1591508846451052,-1.0670349423638883,-1.700765602651748,-0.5696694567539169,-0.3449768596436077,-0.6523401848607845,-0.5521393614321122,-0.226350245329993,-0.4344842257567213,-1.5450922617371103,1.6034151893670179,0.19160068875729647,2.1481159388956472,-0.7518108188720811,-0.9490209168987669,-0.5555938334254696,1.0104649700392576,-0.7807912550197891,0.09565446114073685,-1.454414607006384,-0.08314695227322619,-0.7112824428009767,-1.9029418172128711,-0.43993989443951137,4.389669190920199,-1.279107169034341,-0.22618579914387327,-0.42151519494782674,-0.0637266678397709,1.2654401548498795,0.3334490800170368,1.1840732711492148,3.145934805610106,-1.3169459519806443,-0.8501604509210883,0.7173818374447856,2.3133062591812545,-0.7974670054793307,-1.6869921042668992,-0.40897664966978015,-1.5838726583002862,1.90678783920338,0.33028032668030144,2.715295110163426,0.6137229091042555,-1.663085302067898,0.6794840144210598,1.9088515446955698,0.8341998912402092,-1.3454427149130683,0.3958812087628799,-1.1170279983883025,-1.4748205304244295,-1.2267871168709272,1.7355009768005552,-0.33313269737426093,2.3272879099315245,-0.27121331111363345,-0.7802168059682342,0.026544795307983496,-0.9253330240737169,0.8452994892099542,-0.6924897491348576,0.19788614747808422,0.021530792698698387,-0.38210846602323995,-1.5788377030491776,-0.47847406378617785,-1.5052481147782826,-0.7555741471213134,-0.5295577584284842,1.1905758387493834,-0.45103342090892196,-1.5894174775658751,-0.8000393935111583,0.22661456805197133,-0.36094502956549185,0.13420992130929524,0.4446525138821576,-2.6758001993010523,0.33404458716895596,-1.051455179871991,1.7330811327273319,1.5206261440805913,0.5132710991601305,0.25606614872424494,-0.048107595110839965,2.902666545146203,1.5294220098285878,-0.9252096972376885,1.547001544088142,0.11060138839071984,-0.3348108777037842,-1.4831103867886777,0.6141021304236625,1.2944098291885389,-0.1328223297983584,-0.6557875316953897,0.035266803889282834,-2.4311545864360946,-2.167246115501337,2.432036124470008,1.978219447792978,-0.1803191941910552,0.6398697825518026,-1.7928506512693565,-0.2347774110890154,0.2517892722044446,-0.8543686314222393,-0.6563108537328739,-1.328523277877296,-0.9191504134221364,-0.15551112722373256,-0.06747909609442236,-0.0389840240824055,-0.7622803321216635,1.901598637664431,-1.0743401422446976,2.601450006505328,-1.5172193466276278,-0.518354607086864,1.846613518230783,-2.4134868125303437,2.0681220931905333,-0.7937422742941823,-0.31075709052096473,2.666549802280471,2.8627301492580206,2.192872344132559,-0.927322661967433,-0.9054349520898705,-0.8752440768407528,-1.4006279622363225,0.9176283897499413,0.22127375450913161,-1.896289629511329,0.500364879701631,-1.6459858394505396,0.16928411218712475,0.4037542476500979,-1.821747396261603,2.723801462933482,-0.7102453939675878,-1.9832423233328265,-0.43783904031639725,2.545162912280128,-1.1709165303902525,-1.5486137556346034,0.7287857012776833,-1.0077255282379252,-3.232807999999715,-2.279994224021936,1.6006236304388484,-0.565733737441716,-1.0591087324650297,-1.0375227720806124,-1.9902804534898475,-0.35861890185928175,2.280842545314582,1.3491913112645686,2.754201836775813,-0.8567033824132456,-2.257891804486565,2.269373032175383,-1.2828283178035902,-0.592020134900516,0.6494559803312477,-0.3234473536675547,-0.7306017059006679,-0.39208319716895595,-0.02631313269355109,1.4631407315571046,0.4617393374667438,-1.172564869643291,-0.029329061348226333,0.7007134067538746,0.4174821389853496,-0.7397176597274957,-0.6569403074040746,-1.3260810555233722,2.4603801150257727,1.5059843363891583,-0.10949680288229088,0.05742556996355744,-1.5757758324864883,0.059518507087722626,-0.7595614101171947,-0.786846282649869,-3.4642814775835764,-1.2911887340177344,-0.6356967046959662,-0.19489026311071217,0.9420981913167982,-0.4438064355186321,0.9936801215409748,-1.241936227438763,1.3187451897913973,-1.7834737918323968,3.468744165211563,-1.4517938755725381,1.463880307561239,-0.33838977024057715,0.2643938026775948,-0.647079756281908,1.5262281032565623,0.25047919634460797,0.8774243034213067,-0.8923603628264837,0.1977774696051485,-0.7508394324231191,0.016740390601158398,-0.5890800861827654,-1.655678647556831,1.6862600186477579,-0.5046970057446181,-1.349243955343762,-1.2046190242181227,-0.3235458650700323,0.7870968422232182,2.588269240847145,2.110899956515089,-0.2362526025372164,0.2327282436125188,-0.833150726577836,2.217039337598218,-2.0035748177473907,0.38953885837525537,-1.6794686307458306,-0.0929665437135852,-0.49462435522574844,-0.2700757635164709,-2.3071176139336056,-0.3336259189905323,-0.6031074223955147,-1.1477887718884543,-0.7935935046805846,2.250639444947742,-0.43580073095197575,0.2291303509591999,1.7697484579372198,-0.46390896340037524,1.9846995642825835,-1.0100371612692636,-0.9785685561385221,-0.9254866155574454,-0.015477896826972492,-0.032840007425992995,2.04239059991895,-0.3704633134781378,0.2825452050839774,2.152499904004748,2.1542759056189604,-0.5654404770422145,-0.49657638364841256,0.25167530954547507,-0.4518655493662351,-0.4524701909296078,-1.8758438106904205,-0.11748790986187019,-0.5883754761659337,1.9567719732164846,-1.1112303427656842,1.0618071921949188,2.8426701899121465,-0.5102692933094546,1.243534229150503,-0.2897120836664459,-0.5390589092756574,-1.1062752566719323,2.5380613009511603,0.9309470552560017,-1.6452080075247164,-0.8059343950832502,-1.0729420493571735,-0.7325135776580703,2.104364368997574,-0.45216687547461615,-0.7802127564097019,1.0642670824891411,-0.37742794211971226,-1.6308541189187085,0.5518694736968434,-1.8492583567749903,-0.029007733168568278,-2.1172367661033866,-1.3750591062621438,1.4846902250357363,-0.19180658674910295,-1.0310920083762494,0.8179525517710639,0.003436781639052629,-0.5842306073478566,-0.48724562990389136,1.9392830433602124,0.09343480866439881,-1.714394693753705,-0.7741103041030934,-1.2688885122139537,-1.3228232971338998,2.1330915375710084,0.5506171308274098,-0.2047846325509071,1.1471249119254234,-1.682749427736473,2.266717158810905,-0.3777447570146372,1.9195173046291354,-0.7742224346279125,0.6582341780062888,-1.6754266045605228,-1.646354270581808,-1.8393267351678944,-1.6069310698892605,1.3526632249195047,0.6965144881451963,-1.853631512052686,-0.040524227588371375,2.921770545150294,1.0262234246070254,1.2140952116683983,-1.3000256243502148,1.2161608670711397,0.4786784385627023,-0.3451560657219016,-0.7439948973809747,0.18666650209644892,-0.5696895983180416,-1.1384456410221413,-1.005082826927192,-1.6652361944569338,0.9180185383310748,-0.650614091705965,-0.849328281735204,0.041498920191306035,2.829543471585856,-1.8645233290826475,3.402637451211549,0.19162995345689732,-0.3217117613182819,0.2564157913572544,-2.3720962685637415,-0.69010406431005,-0.5871955327395754,1.3830699073130939,-0.8942181055306075,2.144578390917268,0.5820920747657157,0.3113653998123076,1.9292667256069904,0.5577537912962626,-0.10132235297942631,-0.2019883287510244,-1.1383522670999524,-0.7243125944877336,-0.717027051207508,0.8734156556901612,2.377035033543312,1.9142872801668838,-1.1403249679477654,-0.37450841422365944,1.7568325581384516,0.43302780752475933,-0.8462288335305814,-0.8942295162650333,1.8488351774680762,-0.15634111901408354,-0.5646917524085575,1.7024459978540405,-0.4757541654546788,-1.0726443503136587,0.6185634273188022,0.5188335636389936,-0.5042542651824932,0.25906179422925457,0.19205396448381185,1.3968552779197867,0.6251351900743849,1.4273539199454544,-0.41172157437263635,-1.11501979756935,-0.42820612446754963,-0.9121881005179471,-1.758916850665695,-1.8629212206209502,-0.8419123112484251,-0.5541610466275378,-2.440416398890752,-0.8976634104727765,2.85059240352492,-1.4496702231597876,-0.2572407704743146,-1.8757165369487394,-1.3382276090789176,3.1622597578945397,1.317169499239816,0.7093050477087065,-0.22568559676054162,-1.652750878595589,0.10379833109254522,3.6555786122878113,-0.20403442181035086,-0.18179648209431196,0.08940756048008372,-0.6844334794497485,0.9365818477898871,1.3362157677313178,0.2790169886506031,-0.8007579701429103,-0.06589952662994375,-1.1768822884037207,-0.4252520813669977,-1.2678363917565738,1.5170436703870431,-1.3393565494794994,0.058952433896311426,-1.2128954013748583,-1.491145259594984,-2.28015332286944,2.0026293273474223,-0.5007937096238531,-0.7592023399694409,-0.7605719351426113,3.4697033854305044,0.4835326464963122,2.4219922647986953,-0.7217032983209539,1.2563332127968252,-0.4048604185373853,-0.6788360042977778,0.0883943374620605,-1.1218264506017201,2.6905132341492513,1.1348936582583973,1.1070252878743425,0.25822718474350104,-0.8903068988589458,-0.44031607564018954,-1.2964518193894905,0.3935540163217275,2.118657424067233,5.227519765350549,-0.5079039868446106,1.3085800751068337,1.188707478856083,2.1790599417455074,-0.22754939012596986,-2.3019187984828426,1.2190756934338178,0.20483045482294635,-1.3457070048302913,2.8627757229951913,-1.5814922749344005,2.8700236020442964,1.6601621732391842,0.8259442266166963,1.4961974257282487,2.4204175877343,-1.9395954314353334,-0.48363627720720426,1.9592033593460647,-0.16827803883055767,1.6792979249855566,0.4096544152667597,2.0803267637602896,0.8725009405621512,-0.06937957906252151,2.0042803320798206,-1.128371291021561,0.10561296593898714,0.345034449727079,0.3206232568197125,3.0193460280923388,0.4146103055436916,-0.1749357733735746,0.9272399661418279,0.23290482205453603,0.32574864590558833,-1.1118536195877913,-0.45433749217998026,1.295715732737773,-0.8976100934132395,-0.4830452463307427,0.999556369001638,-2.0413420281532977,-1.387766965392751,1.0120535899578451,-1.0352877430395664,-1.4446472692238779,-2.48100569557005,0.8167490951663949,-0.04372208857668121,-2.3676446685022254,0.2504243222450746,0.5187957749257052,-2.7518711192096075,0.6473175711607113,-2.698977891494407,-0.40342775781966006,-0.589972450124728,-1.783805154274473,-1.3007049046782482,2.1039017846777717,-0.17051776910386887,-1.653484474352909,-2.114458426321163,0.4190019003429736,1.5490541456873745,1.1715178653851193,-1.0673421205861153,-0.18742023473209604,-0.2990386142193143,1.3799948839606515,-0.307927169265728,-0.028901981272352252,2.8925862138271374,-0.40788797566280516,1.624935030348923,-0.5345726699070483,2.219113372438709,0.6916049281906728,1.1838489754370092,1.7985774062982531,0.35051527501568064,2.561496156898981,1.193512216354376,-1.1771721891001505,-1.3558034514049222,-1.7071973380612688,4.057820161586039,0.4136077134273294,-0.9005959963222021,-0.906205674669124,0.1457796888080317,0.16843278037849038,-0.38977361009500594,-1.1836145173449815,2.109203424280781,3.976801362991035,0.03781307210493038,0.1420954399206662,-0.9508042151905745,-1.8020934786986562,-1.059005683950502,-1.2891141046733106,-0.6560094685497905,1.8484166909644575,3.035068398302783,0.3659898450046034,0.08747147095038611,0.9635278444709993,0.7396350357069879,1.78496382529492,-0.29659489252684956,-0.7267433742824462,-0.8873221322393895,0.7862246060077803,-1.0030298862850318,0.2541714206714024,1.9340368988772414,1.9987637658386455,0.8112362606264076,0.601921301637958,-0.7924071244737354,0.8848170220060014,0.4141504982130944,2.046545650817613,2.504483775554098,-0.1334602209645004,0.6142723783443131,-0.6215319542180517,-0.5082771858472884,-1.0964462435585673,0.35986434458241234,-0.5411569199450219,0.8607759980770504,-2.207374419087583,-1.4228713756005564,-0.6830359211034529,0.0557383598323681,-0.06371013901800593,-0.4051603703186034,-0.5717754182470716,-1.9545998354432461,-0.14964712143304001,-0.10840129073326663,-0.1755767413069564,1.2362283146312751,-1.4066678543400704,0.7302902372167102,-1.750271979968951,2.030596123431814,-1.2571383215716774,-0.5839115688457883,1.6286509759017012,0.050091290367946614,-0.36763335590335827,-1.1029144136131086,-0.2165696219238413,-0.7271137017545929,-1.426792186480124,3.9675438521517457,0.8066036639727124,-0.5116038511040641,0.10908377268295318,-0.8204139839503455,-1.2350474342592064,-1.7925086613137053,-0.2752872805901676,-1.2632910965748905,-1.1000310750720057,-0.8461171842901308,-1.0921569446820958,0.9383136887889505,-0.7488020022803092,-1.3523837789455946,-0.9694202805271562,-0.18547610349441687,0.49581702870698946,-2.2622176680696544,-0.5388372255101533,-1.2868543132054624,0.522382455756314,-0.41794881622780966,-0.11098427826919956,-0.021611363820627717,2.094771549287761,-2.217895268604157,0.6755956033393818,-1.4164093181520465,2.721138969878429,-1.0958237629413705,-0.7729251605873287,-0.48339242731327,0.13747258346142638,-0.009085087924223,-0.2296467756990017,-0.6154937523366559,-0.10791759470473042,-0.5545324862945887,1.1550776006301935,-1.0518595137434543,0.6443647092217398,1.7798308637529183,0.17671301371586878,1.6378581720320355,-0.14501571452323866,1.397470757292679,1.6589806203828372,-0.6375236973796199,0.7936081960876765,-1.2001519944478487,-0.6843898436839034,1.3523476339247786,0.3098994853815507,-0.49646093067350533,1.0388536442028007,-0.4335577920250851,-1.0729567579242905,3.00415395113045,-1.0082811195879635,-1.6227997824471148,-2.0496346425778733,2.122111127484892,0.43432503718088844,0.015420999662240696,-0.5761591694529888,0.06689310455831901,1.2038303851362595,-2.2876933850997183,-0.7532884678099248,1.149764942688988,-0.9004991904303105,-0.1280193152290807,-0.3051297915330191,-0.6191427348121157,0.25873549215298475,-1.5146771150022709,-3.109677068864092,-0.9687790417439296,-0.0758813977435698,-0.21899485190078893,0.6365731740907339,-0.6177335203157595,0.24079404916525318,-1.8134859010129523,0.03684127198587745,2.769426584321812,-0.20657764090156577,-2.3144522798049607,-2.2744571025074625,0.09528115583372204,1.297369243748626,0.6752269327104486,-0.18776164739681114,-0.15796019083801507,-0.7694626959460985,1.057709070347958,2.1990313068632363,-0.6533989816680522,-0.09768696925949795,-0.046149835355018314,-1.726305093480854,3.1601341400537803,-0.5194067098098455,0.6783465997199375,0.37774680179708225,-1.771016496394612,0.32784185524381937,1.960753603194367,-1.1467841179859755,-0.4784007082644254,-0.6712847552416643,-0.1023057731534738,0.8992054077179769,0.16302023633591217,2.129407718953963,-1.8293184216608176,0.18016625870079536,-1.1984361372028847,2.6629622173513456,-0.3994290242306192,-1.304226241438636,0.8474368925794958,-1.021997089894073,-0.7944922054789902,-1.014705474410328,-0.9201075110143363,0.24798007409238218,-0.03931272945559481,-1.851499599955586,-0.3801169293198064,-0.162638190295768,-0.32264362593169216,-0.9451839972083893,-2.93843893451946,-0.24035347133263738,2.3085020193490307,0.9474688667255612,-0.5595786452731911,2.466265379729236,-0.6628046846041957,1.0162471565807152,-0.5294167843528119,-0.7009643823033972,-2.6094348539130485,1.4441995038810445,0.3882018122512744,-0.6479036935574863,-0.8050561734671945,-0.39374068912338983,0.3033390070924974,-0.6426551133921855,2.888715519865714,-0.8489870838616299,0.7041003631742675,-1.1345742581162623,1.0438459169583443,-0.6422833975152028,-0.7700377221668424,0.5819097157605049,-0.3557796030891226,0.5231091770213319,-0.3677878870349903,0.10675869244637076,0.3679060171626128,-1.2971250858339374,2.439687341622356,1.9808500554641055,-0.8224988287617996,2.6889359464070695,-0.13091589225818503,-0.613299634202408,-0.4044943062455779,2.0532782645391134,0.19487135456069313,0.43055486572694196,0.8494323330876044,0.12953232795536102,1.979727636197985,0.11594375925818363,0.5067739935862676,-0.4493203673860474,-0.6080008143152714,-0.9385573438700705,-0.3441490792616027,-1.4575348136105577,-0.8111611783584101,-1.195435745524496,-0.27048091593641654,-0.2618867240089843,4.479145204516636,-1.2695947762530937,-1.6353900000898043],\"z\":[0.3502679781687102,-1.1010497401748753,-0.22315230380465476,0.42294783838400263,-0.06973905914451947,-0.9426925902124363,0.8760074266757131,1.7449632698607498,-0.9907009166751765,1.5535322085566319,1.8179410121665263,0.6392530968368261,-0.6232601145938154,-1.114557648624429,1.435067934428501,-0.5873915286374976,-0.2818176721986141,2.223247856531678,-0.9627229551418882,-1.022179609238048,0.5061732247042798,1.023775168385328,0.8751432266954215,-0.7636439614926628,2.165795474644084,-0.5702420658483037,-0.3306605619476617,-1.2372525316717904,0.6070641044350432,0.24415305199768228,1.6743420945545824,-0.06845861420980327,0.9257744135615688,1.2025357179240297,-0.6844734904667439,0.39275487053042163,1.624419465450806,-0.6552207690364467,-0.349571748946893,1.6676118203869106,-0.5754616970255559,1.2132087094124213,-0.39052838215797486,4.177672260856308,-1.2263036402577154,1.2559558607763242,-1.0609989307382603,-0.38918668190974864,-0.3984782602596184,0.5265256652801882,-0.6606706163455753,-1.9217871148247814,-1.2322815205027253,-0.5707107109874987,1.0613572510714133,-0.6294095092152232,-0.2578928166223877,1.503027808328145,-0.4342345654318209,-0.6052558433852729,-1.067546482355755,-1.3065994372095415,-0.9761821935075055,-0.09015044109021067,0.5689993217758026,-0.5986320749408667,-0.4033710050124376,-0.5927210141858974,-0.9029756641832485,-0.8639977593870741,1.7171518268037032,2.8723073373396764,0.6093861423822686,0.052338120101029874,-0.5174196377712972,-0.8944936733926234,-0.3708435889078777,0.43645397969862587,0.33535044421544286,0.3231497719581906,-0.7004531183363135,0.6626908649703538,1.7799718810563194,-0.4701215201778375,-0.040524022941116455,-0.39912399709166324,2.2194310103958514,0.2702163926651389,0.4059222714381166,2.0974413030078347,0.711411762722361,0.6485756779501594,-0.14104622385848195,-0.8982337186407333,1.5451226037332255,0.7622339604897689,-0.6756175357223221,-0.3748056808153727,0.12785843611940328,1.6022254867918537,-1.3345817215287807,2.2079348672980013,-0.7008625835723863,-0.45323501799049165,0.23785084623973643,-2.0200648677014255,-0.39377455745036455,-0.9784904541378451,0.6443846907469051,1.6495398465233737,-0.6104663632078604,1.9835615159523465,-0.7618308200402002,-0.7683981488249216,-0.7712326121341648,0.31459789903209545,-0.7428780167099761,-0.8312119175087082,-0.22043445509471885,-0.5702687281601893,0.14372068849608316,0.4073787947752256,2.3231574042172665,0.41122216189814453,-0.7187588397290464,-0.3164066929451404,0.8423006982838727,0.6021802616034723,-1.1000179889650978,-0.220119872399253,-0.6291205120634942,-0.8625850713137136,0.12431053854583429,1.4668094587026197,-1.004408888005171,2.151281168962709,0.6107946342448722,-0.7555537270719014,-0.8750646428105439,0.09163236463072735,-0.11444424960533198,0.45327699042138125,0.1914776991504815,-0.8953933081235089,-1.4338558721462895,0.8512949431166726,-0.9405437992756704,1.2658962943504108,0.6904542109723695,0.5180117073094671,-0.5242255136992744,-1.347820523201124,1.4064761026944694,-0.9529535919327083,0.542525403268483,-1.364501513001472,-0.2669105712724219,-0.6148416910005479,0.14250243829000409,1.155078334389837,-0.3282784653273166,0.5823492508938644,0.8228049733404728,-0.8275657856290031,0.1464711342024257,2.5388180241257183,1.7265067344766374,-0.4182317801941106,-0.49071730041591116,2.319443911130363,0.006401250875166882,-0.888786283088856,1.4844684006324822,1.4828151245302055,-0.6727126051235486,-1.4180975325236918,-0.6046329971826628,-0.5309211798248981,0.277377088628175,-0.47370418997080815,0.20974255419818616,0.26367667723108784,-0.5947709397172628,-1.9097476703686165,0.5612558350884836,-0.5255606534031436,-0.558216031228459,-0.8962138593422575,-1.1857107127035622,2.8366573921607334,-1.3217327625427573,-1.7097323763924797,1.721268547678833,0.9808718235602352,0.5773840425354949,1.1926918135655629,0.5208989812264608,-1.1117505350817496,1.3950768794112616,1.7405077171563041,-0.8132688207468811,0.6063962784676835,1.266466697972684,-0.5455343094912681,-0.45681112713593824,-0.8958472733968273,0.4549119578921699,0.4915621330993471,-0.43604698175132,2.589159381455989,-0.8209041394858051,-0.46564813898236873,-0.427901564579912,2.5749573894930315,-0.7111614202069769,-0.9372442008771192,0.4028840906439378,1.7279668472406715,-1.0938646764262527,-0.41035113436634424,0.4015339366004931,1.5956980180078606,0.37472827618568844,2.482883007968263,-0.680704712380865,-0.5270716058221839,0.9562283760562605,-0.44979180972867827,0.5215544490613124,-0.9522445092432286,-0.5283313556127538,-1.2856913186030625,-1.0976471419009153,-0.9146720425620141,-1.2317646993730187,-0.20819736414161377,-1.0725787254493993,0.1968892962187162,0.5804386101351297,0.6592526189850463,-0.7150260536102595,-0.584070627724504,-0.5149231980873213,-0.5288245510793894,-0.5661541980759607,-0.06864637288459328,-0.419716123998013,-1.0875299393992413,2.217506738431848,2.195854253006526,-0.6190751608433397,1.191773625745693,-0.571597205476381,-0.3458274003310486,1.4627444529526201,-0.29741567888944315,-0.972819670805129,-0.46548037663574515,-0.37605103258026323,-0.6126238356008431,-0.5342206336932295,2.433657834259636,-0.03393125996240663,1.9317161246141594,-1.3982492527496921,-0.3965879955107416,-0.6747172159201777,0.8948735005925933,-0.47994158553602734,-0.5321078647081273,0.35651506873077143,-0.5397659709825524,-0.4472740683809687,0.10819141965637423,0.22772684641504728,-0.18711006602576036,0.12749165560382208,1.2104028557058384,-0.7587921822503636,0.34494258294666363,-0.26665131877018416,-2.2485721013820315,-0.07959817660230949,-0.6377240542500004,-0.7766929029315219,0.4589069204563615,-0.8052240390084434,-0.5394473251864845,0.7473315091111423,-1.3692058159330835,-0.3484750219490377,0.4953014014640664,-0.14717488320480154,-1.5669914499678714,0.5670609338645274,-0.6441235413176598,0.45850825594460326,-0.6876650670387243,2.5620910693499965,-1.025039929173623,0.4736974363899227,1.4493358344490588,-0.6321564241490288,-0.622779579237306,-0.8401912035569161,0.5021167395365533,-1.20131835281286,-1.7826945720684826,0.1432914824478269,-0.5932102159537137,0.5469922370742586,-0.6895677373118416,-0.6616161860321608,0.6062801091872885,-0.6911881119602638,-0.3629437950700101,-0.5660391415413332,0.3872029595444283,0.3672297099746792,-0.39051144891307266,0.6564007352962761,0.5126593465332259,1.6385678428721202,-0.42773771305013086,-0.29450513642273574,-0.5586338122123493,-0.8845162174780432,0.5426503299250479,0.9302056768810445,-1.152075922945541,-0.7640251286060175,0.08735538443608228,0.44253537229820633,-0.8637268057772641,2.4266930978953813,-1.1857061819394228,-0.22380571011095476,-1.2871047617205362,-1.3992481063593212,0.21416847381227702,0.9394391692310237,-0.544886775886002,-0.5100382457454878,0.0720973351001928,-1.4292065727704584,0.5265950145966604,0.10354852310591418,1.6886229390382461,-0.18039133806683116,-0.5388937823070706,-1.6837454954222595,2.6557293009870744,-0.5960612755305511,-0.39943687915362064,-0.5373824006554622,-0.5686333422714368,0.010966195756053787,2.244215573966239,1.3285565030722801,-0.9432694600804081,3.206259548032911,-0.17485750639562847,-0.507641851576614,2.6423533580365546,1.705095592198244,-0.9150873270166467,-0.5379714815414588,3.82804835277692,0.3752575246887463,-0.6002422942324547,-0.33305982707686616,0.19681323700613737,-0.8381460648430695,-0.481211296883098,-1.4733656543902496,-1.0767358026292968,-0.43431641907523844,-0.8394100332790693,0.6728355360443922,0.3268570243445608,-0.6205046945470255,-0.5205709327407925,1.7018666289371132,-0.8422697810985981,0.3516130577517383,-0.8292464807628518,-0.6702798728577997,-0.12260947273209996,-0.3367849560438815,-0.36160979683358524,-0.9102164975407013,-0.3799649047447575,-0.5128787916840784,-1.5918498076324175,-0.7478445924866551,0.17150076392699468,0.4689646330159618,0.7827442389206076,-0.4606999880866639,-0.49119006323802106,-0.1352895154132385,-0.6129670605251627,-0.786228868053948,-0.729119943290949,-0.909475401346923,0.8178197833464417,0.5433259153508365,-0.31479199814629943,2.7492451389416503,-0.5876703670775557,-0.6653732464165056,0.34505875879076636,-0.2179006937094841,-1.1753990477427692,0.642520179702899,-0.9543217786920533,-1.3060106919132253,-0.7557166335524329,-1.3659248495627987,-0.39856530774376964,-0.9338615506117155,0.9565264213398237,-0.9584448874168328,0.27906727350052885,-1.7370186405459533,-0.43017871702610083,-0.41525044877026307,-0.9763146817554216,0.9712031283958907,-0.42675997423390183,-1.4300171903266963,-1.2154801685670786,0.44935740847652983,1.4450247310971536,0.8256446178417737,0.4751506319271487,0.5478780855714718,-0.33502044414768645,-1.19402460678765,-0.8655953782792084,-0.42195040462612365,0.23263158323723515,-0.6477573305803191,0.9160573910157428,-0.9779270627980138,0.9305594649763862,0.6568085050463587,-0.5940080985369964,-0.7534201877078025,-0.5120343406571604,0.540294121167938,-0.8702291045706451,1.4767534659098676,-0.459172422478142,0.35699526868604764,0.43335574907638763,-0.3603470251945622,-0.6472358644750407,-0.759553506275121,0.9985392934303945,1.6023302958047712,1.7273666437155746,-1.3720968770555688,-1.043244290356217,-0.36427460812274504,1.239255772392987,1.6733731006679855,-0.47580995052608704,-0.5153393905181617,1.8077741690354605,-0.9142900363239581,0.06737273007868212,-0.9796615089329636,-0.6039050130062916,0.5941540024415841,1.5669867273061422,0.39522431466511054,-0.5867874197960511,-0.6411567882879824,-1.4585010477231102,-0.7739523163581304,2.1153110450372905,0.6935967282650328,-1.0238164206122038,-0.714789367114891,0.5154871739396005,-1.3247061001902116,-0.971116033256321,0.09539580343203034,-0.21431112330867208,-1.2465140950307048,-0.9664431948097731,-0.7453681879689819,-0.10462792651676976,-0.7439883940511571,0.35400320400100904,-0.8441017282787731,-2.4376674001159437,0.20877150203306807,-0.3017387600571845,0.6352611844949447,0.3614202004721107,0.2773765159961154,0.2947191522415118,0.6241015660480115,1.4000716733748249,0.24860177391100485,-0.13045907042842952,0.2996458254915877,-0.046279810197148274,-0.6546556970410856,2.384795479172366,-0.46779521604396856,-1.8070563863978255,-0.624204608897136,-1.015870672164089,0.3553971630634004,0.44559601605671567,-0.6222295255136067,0.05624094107727971,-0.13795140770648398,1.1661258714476475,2.3962605273448845,-0.7847986670538692,-0.9297766944755115,1.3827437846566988,-0.4818663675786922,0.2980769767753371,-1.2610022543833466,-1.0740882541469512,-0.5811583888703106,-1.5432438926696925,4.4493396516561505,-0.0022609954608960718,-0.4285512274855909,-0.4805261475909523,0.632736057897335,-0.4982183682325539,-0.6964695903833477,-1.0321046480594682,-0.2983400228871754,0.6990033947941532,1.807160507915297,-0.8707688407222939,-0.8145473100739998,-0.1382890517088608,0.46460721674311123,-0.8214825563668257,1.5661038172072652,0.5986067997275334,-1.5496191142368967,2.846937455971371,2.2431313696239497,1.0450220416585014,-0.675532540870581,-0.9511007415233323,0.15175200791249616,0.3241412459515757,-1.1292763456885273,-0.3692277265886967,-0.634887674290786,-0.7082971909218402,-0.19909115633439955,1.2288302112286527,0.6685941666502728,-0.7785123244458507,1.3769215632464786,-0.44431279226916026,-1.9949215444239539,-0.47666592557587945,-0.8089414548862204,1.9634445695205986,-0.8070863606757157,-0.415767398316075,-0.6468414772302116,1.6619441172206222,-1.1405335188893964,0.6289698154711179,0.49208722878453093,-0.6822355494497316,-1.8124807334988107,2.854607146123233,-0.8775055342605889,-0.5467414427064256,-0.7005574742131115,1.05871559788093,-1.1344956869887013,-0.30594837188278223,-0.5020121479585743,0.019445968387934286,0.39733994810242756,0.22587487402102435,0.3899977548425504,-0.13897219961693144,-1.5540964921759572,-0.6344762672931039,-0.5085481167763178,-0.4263854724588592,0.5875021526663375,-0.8506374687230046,-0.6100362549870338,-0.7828568130422648,-0.7647622662837309,-0.3128351324421941,1.1807138594695241,-1.3234966142517717,1.975498815218109,2.2544357018022714,-0.7264658485402,0.4148419330692262,-0.5612360839663051,-0.5459698881888357,-0.1453140219787744,0.6382111111562422,0.1297124976861417,0.2177906437529184,-1.045888578532671,0.6494640123360345,-0.5895706248336269,-0.6589712963933709,-0.8176440267042041,-0.7017014453842196,0.22887530423017616,-0.17859371804759608,-0.47669827552920185,-1.2308623959813259,-0.5204924550938347,-0.19136664361836753,0.11727777543472172,1.5040868077802145,1.6648597253974668,-0.7774043644001556,-0.5035603185127381,-0.4933075575888873,-0.7786988090324208,-0.7561337621484434,-1.1606174905553612,1.2165971603206684,-0.7467874696464725,0.21435926133199135,-0.6248805568965535,0.5616131715529943,4.171179822663544,0.809987783678694,0.43182432246146185,-0.20018998826169726,0.9644484201636123,0.35921110727487904,-0.48800346010482193,-0.6183310883945075,1.5578935376377994,0.3819071824902232,1.3061954621381224,0.10750102688406675,-0.3808358024443282,0.7063632868035381,-0.41489392190811564,-0.26886106747194444,3.3918206595771045,-0.258073384685439,-0.6336512813276974,0.8181516397133042,-0.30368677003157707,-0.5529997172999417,-0.8774413040362217,-0.3639085236712906,-0.5065641097997815,-0.743424031661552,-0.5051020758866483,-0.7331073059359519,2.371363311769219,-0.5446681300587385,3.1896976867723716,0.3923868890757139,0.4450597066149716,0.734252359707638,-0.3729668453676287,-0.6887693706907051,-1.1606226579003187,-0.9150004489696634,-1.0747560774378633,-0.6448165655898979,-0.9893714653930652,1.2627987538604553,1.477889114498331,2.430640041997612,0.05636139949908443,0.5442935344330126,0.5520843325210819,-0.6448978082908005,-0.4455597627826743,-0.1833948263602068,0.3336319564496984,-1.0547750118931831,-0.4533455739195805,-0.3881948869619657,0.023426238400742223,-0.8471318564066275,0.2585837645233648,-0.5794538716820119,3.186346715356625,-0.8801363256842112,0.5764232730137451,0.7164129070713947,-0.5219723516053842,-0.6679737175538036,-0.9626993381898147,-0.3464524971566345,-1.187843525244609,-0.7712221531531872,0.28926440974532297,2.3564343853986776,-0.23306004310371836,0.8632168426202369,0.6516872674713166,-1.6248880568050883,-0.5287002029617174,1.8585142765259994,-0.4735168251093767,2.069466994247539,-0.8430767242039634,-0.8071074392813501,-0.8162759947533366,-1.0970651756439316,1.2776845682634597,0.36155584521004835,-0.1747798251862414,-0.6919221577096164,-0.3322622935369424,1.1158782013177742,0.296800045016558,-0.802133030283109,0.6216892264696846,0.7203918492136688,-0.6253541435540959,-0.31800737422158404,-0.8499511490324645,0.579217122119532,1.2143262711103289,1.2976728663007882,-1.2068968890288854,1.5693816971104593,-0.4646283496402544,-0.2848934533615254,2.3755229880164723,-0.800921763472078,0.9435234235454487,-1.2062353759110813,0.030128704436605928,1.3122391405637508,-0.9218855459505606,-0.7041231886770457,-0.6161105229902125,-0.16174745447495004,-0.8242363605030735,-0.7185642148482074,0.4140636438845958,-0.46125464767993735,-0.7401305691910744,-1.2736883807314583,-1.086175577003994,-0.21112242289632038,-0.6994376283254025,0.5757833213924667,0.49323954473600423,2.8039169225648024,0.7722579301757186,-0.7549146539189361,-0.5010379300745513,-0.35562390924359727,-0.4951229681840205,-0.6306309633809594,0.27888912571215274,-0.4014145162393967,0.929099358707178,-0.7594365407601066,-0.9999608337441319,0.18324547256488768,0.00946538060635753,-1.1999260808928547,0.6942374822690348,-0.4879864201473053,-0.5542976112892406,-0.8402589390651486,-1.5300839709597596,1.6315240813254483,0.380535997941913,-0.9536402825220938,0.16950784481951406,-0.4085894096724762,0.5592066546416127,0.3660024807035572,-0.9602102261892755,1.3340377165586177,-0.1966219754858808,1.5592690530069946,2.3306530403079835,0.6985972452013657,-0.007110370590825016,-0.6328976756616272,-0.37122498804032933,-0.8119628034796276,-0.37911293088585407,-1.0106592298415458,-0.7384715772185886,-0.38685477533469587,1.174279679187589,1.580989869491843,-1.135223022371131,-1.2053268164707494,-0.8124936255793869,0.32028288279535416,-0.3499716311369229,-0.6196770348979223,-0.6162608083040136,0.688869504033729,0.6118389268134177,0.6468870483567145,0.29660888999112506,-0.6987065929597852,-0.8912635602960545,-1.4662433556030128,-0.3354635880544934,2.3071226028531693,-0.06185706137025736,0.7791434802695645,-1.8261805636870767,-0.8596819555014651,1.588596306041897,0.6672985209298192,-1.247159858582409,0.05594419499501566,-0.004465953216958282,1.893533408613218,0.4568101766123543,0.9828462439190605,0.4990975765623366,-0.9709822325947111,-0.7102451920656118,-0.6482797710300191,1.186944630535526,1.624227065995282,-0.5204401300934347,0.5913343859373704,-0.40544469370202546,-0.5384732012609758,0.4103365580309675,1.2842349749125779,-0.5391647600427364,-0.7785928683265168],\"type\":\"scatter3d\"}],                        {\"template\":{\"data\":{\"bar\":[{\"error_x\":{\"color\":\"#2a3f5f\"},\"error_y\":{\"color\":\"#2a3f5f\"},\"marker\":{\"line\":{\"color\":\"#E5ECF6\",\"width\":0.5},\"pattern\":{\"fillmode\":\"overlay\",\"size\":10,\"solidity\":0.2}},\"type\":\"bar\"}],\"barpolar\":[{\"marker\":{\"line\":{\"color\":\"#E5ECF6\",\"width\":0.5},\"pattern\":{\"fillmode\":\"overlay\",\"size\":10,\"solidity\":0.2}},\"type\":\"barpolar\"}],\"carpet\":[{\"aaxis\":{\"endlinecolor\":\"#2a3f5f\",\"gridcolor\":\"white\",\"linecolor\":\"white\",\"minorgridcolor\":\"white\",\"startlinecolor\":\"#2a3f5f\"},\"baxis\":{\"endlinecolor\":\"#2a3f5f\",\"gridcolor\":\"white\",\"linecolor\":\"white\",\"minorgridcolor\":\"white\",\"startlinecolor\":\"#2a3f5f\"},\"type\":\"carpet\"}],\"choropleth\":[{\"colorbar\":{\"outlinewidth\":0,\"ticks\":\"\"},\"type\":\"choropleth\"}],\"contour\":[{\"colorbar\":{\"outlinewidth\":0,\"ticks\":\"\"},\"colorscale\":[[0.0,\"#0d0887\"],[0.1111111111111111,\"#46039f\"],[0.2222222222222222,\"#7201a8\"],[0.3333333333333333,\"#9c179e\"],[0.4444444444444444,\"#bd3786\"],[0.5555555555555556,\"#d8576b\"],[0.6666666666666666,\"#ed7953\"],[0.7777777777777778,\"#fb9f3a\"],[0.8888888888888888,\"#fdca26\"],[1.0,\"#f0f921\"]],\"type\":\"contour\"}],\"contourcarpet\":[{\"colorbar\":{\"outlinewidth\":0,\"ticks\":\"\"},\"type\":\"contourcarpet\"}],\"heatmap\":[{\"colorbar\":{\"outlinewidth\":0,\"ticks\":\"\"},\"colorscale\":[[0.0,\"#0d0887\"],[0.1111111111111111,\"#46039f\"],[0.2222222222222222,\"#7201a8\"],[0.3333333333333333,\"#9c179e\"],[0.4444444444444444,\"#bd3786\"],[0.5555555555555556,\"#d8576b\"],[0.6666666666666666,\"#ed7953\"],[0.7777777777777778,\"#fb9f3a\"],[0.8888888888888888,\"#fdca26\"],[1.0,\"#f0f921\"]],\"type\":\"heatmap\"}],\"heatmapgl\":[{\"colorbar\":{\"outlinewidth\":0,\"ticks\":\"\"},\"colorscale\":[[0.0,\"#0d0887\"],[0.1111111111111111,\"#46039f\"],[0.2222222222222222,\"#7201a8\"],[0.3333333333333333,\"#9c179e\"],[0.4444444444444444,\"#bd3786\"],[0.5555555555555556,\"#d8576b\"],[0.6666666666666666,\"#ed7953\"],[0.7777777777777778,\"#fb9f3a\"],[0.8888888888888888,\"#fdca26\"],[1.0,\"#f0f921\"]],\"type\":\"heatmapgl\"}],\"histogram\":[{\"marker\":{\"pattern\":{\"fillmode\":\"overlay\",\"size\":10,\"solidity\":0.2}},\"type\":\"histogram\"}],\"histogram2d\":[{\"colorbar\":{\"outlinewidth\":0,\"ticks\":\"\"},\"colorscale\":[[0.0,\"#0d0887\"],[0.1111111111111111,\"#46039f\"],[0.2222222222222222,\"#7201a8\"],[0.3333333333333333,\"#9c179e\"],[0.4444444444444444,\"#bd3786\"],[0.5555555555555556,\"#d8576b\"],[0.6666666666666666,\"#ed7953\"],[0.7777777777777778,\"#fb9f3a\"],[0.8888888888888888,\"#fdca26\"],[1.0,\"#f0f921\"]],\"type\":\"histogram2d\"}],\"histogram2dcontour\":[{\"colorbar\":{\"outlinewidth\":0,\"ticks\":\"\"},\"colorscale\":[[0.0,\"#0d0887\"],[0.1111111111111111,\"#46039f\"],[0.2222222222222222,\"#7201a8\"],[0.3333333333333333,\"#9c179e\"],[0.4444444444444444,\"#bd3786\"],[0.5555555555555556,\"#d8576b\"],[0.6666666666666666,\"#ed7953\"],[0.7777777777777778,\"#fb9f3a\"],[0.8888888888888888,\"#fdca26\"],[1.0,\"#f0f921\"]],\"type\":\"histogram2dcontour\"}],\"mesh3d\":[{\"colorbar\":{\"outlinewidth\":0,\"ticks\":\"\"},\"type\":\"mesh3d\"}],\"parcoords\":[{\"line\":{\"colorbar\":{\"outlinewidth\":0,\"ticks\":\"\"}},\"type\":\"parcoords\"}],\"pie\":[{\"automargin\":true,\"type\":\"pie\"}],\"scatter\":[{\"marker\":{\"colorbar\":{\"outlinewidth\":0,\"ticks\":\"\"}},\"type\":\"scatter\"}],\"scatter3d\":[{\"line\":{\"colorbar\":{\"outlinewidth\":0,\"ticks\":\"\"}},\"marker\":{\"colorbar\":{\"outlinewidth\":0,\"ticks\":\"\"}},\"type\":\"scatter3d\"}],\"scattercarpet\":[{\"marker\":{\"colorbar\":{\"outlinewidth\":0,\"ticks\":\"\"}},\"type\":\"scattercarpet\"}],\"scattergeo\":[{\"marker\":{\"colorbar\":{\"outlinewidth\":0,\"ticks\":\"\"}},\"type\":\"scattergeo\"}],\"scattergl\":[{\"marker\":{\"colorbar\":{\"outlinewidth\":0,\"ticks\":\"\"}},\"type\":\"scattergl\"}],\"scattermapbox\":[{\"marker\":{\"colorbar\":{\"outlinewidth\":0,\"ticks\":\"\"}},\"type\":\"scattermapbox\"}],\"scatterpolar\":[{\"marker\":{\"colorbar\":{\"outlinewidth\":0,\"ticks\":\"\"}},\"type\":\"scatterpolar\"}],\"scatterpolargl\":[{\"marker\":{\"colorbar\":{\"outlinewidth\":0,\"ticks\":\"\"}},\"type\":\"scatterpolargl\"}],\"scatterternary\":[{\"marker\":{\"colorbar\":{\"outlinewidth\":0,\"ticks\":\"\"}},\"type\":\"scatterternary\"}],\"surface\":[{\"colorbar\":{\"outlinewidth\":0,\"ticks\":\"\"},\"colorscale\":[[0.0,\"#0d0887\"],[0.1111111111111111,\"#46039f\"],[0.2222222222222222,\"#7201a8\"],[0.3333333333333333,\"#9c179e\"],[0.4444444444444444,\"#bd3786\"],[0.5555555555555556,\"#d8576b\"],[0.6666666666666666,\"#ed7953\"],[0.7777777777777778,\"#fb9f3a\"],[0.8888888888888888,\"#fdca26\"],[1.0,\"#f0f921\"]],\"type\":\"surface\"}],\"table\":[{\"cells\":{\"fill\":{\"color\":\"#EBF0F8\"},\"line\":{\"color\":\"white\"}},\"header\":{\"fill\":{\"color\":\"#C8D4E3\"},\"line\":{\"color\":\"white\"}},\"type\":\"table\"}]},\"layout\":{\"annotationdefaults\":{\"arrowcolor\":\"#2a3f5f\",\"arrowhead\":0,\"arrowwidth\":1},\"autotypenumbers\":\"strict\",\"coloraxis\":{\"colorbar\":{\"outlinewidth\":0,\"ticks\":\"\"}},\"colorscale\":{\"diverging\":[[0,\"#8e0152\"],[0.1,\"#c51b7d\"],[0.2,\"#de77ae\"],[0.3,\"#f1b6da\"],[0.4,\"#fde0ef\"],[0.5,\"#f7f7f7\"],[0.6,\"#e6f5d0\"],[0.7,\"#b8e186\"],[0.8,\"#7fbc41\"],[0.9,\"#4d9221\"],[1,\"#276419\"]],\"sequential\":[[0.0,\"#0d0887\"],[0.1111111111111111,\"#46039f\"],[0.2222222222222222,\"#7201a8\"],[0.3333333333333333,\"#9c179e\"],[0.4444444444444444,\"#bd3786\"],[0.5555555555555556,\"#d8576b\"],[0.6666666666666666,\"#ed7953\"],[0.7777777777777778,\"#fb9f3a\"],[0.8888888888888888,\"#fdca26\"],[1.0,\"#f0f921\"]],\"sequentialminus\":[[0.0,\"#0d0887\"],[0.1111111111111111,\"#46039f\"],[0.2222222222222222,\"#7201a8\"],[0.3333333333333333,\"#9c179e\"],[0.4444444444444444,\"#bd3786\"],[0.5555555555555556,\"#d8576b\"],[0.6666666666666666,\"#ed7953\"],[0.7777777777777778,\"#fb9f3a\"],[0.8888888888888888,\"#fdca26\"],[1.0,\"#f0f921\"]]},\"colorway\":[\"#636efa\",\"#EF553B\",\"#00cc96\",\"#ab63fa\",\"#FFA15A\",\"#19d3f3\",\"#FF6692\",\"#B6E880\",\"#FF97FF\",\"#FECB52\"],\"font\":{\"color\":\"#2a3f5f\"},\"geo\":{\"bgcolor\":\"white\",\"lakecolor\":\"white\",\"landcolor\":\"#E5ECF6\",\"showlakes\":true,\"showland\":true,\"subunitcolor\":\"white\"},\"hoverlabel\":{\"align\":\"left\"},\"hovermode\":\"closest\",\"mapbox\":{\"style\":\"light\"},\"paper_bgcolor\":\"white\",\"plot_bgcolor\":\"#E5ECF6\",\"polar\":{\"angularaxis\":{\"gridcolor\":\"white\",\"linecolor\":\"white\",\"ticks\":\"\"},\"bgcolor\":\"#E5ECF6\",\"radialaxis\":{\"gridcolor\":\"white\",\"linecolor\":\"white\",\"ticks\":\"\"}},\"scene\":{\"xaxis\":{\"backgroundcolor\":\"#E5ECF6\",\"gridcolor\":\"white\",\"gridwidth\":2,\"linecolor\":\"white\",\"showbackground\":true,\"ticks\":\"\",\"zerolinecolor\":\"white\"},\"yaxis\":{\"backgroundcolor\":\"#E5ECF6\",\"gridcolor\":\"white\",\"gridwidth\":2,\"linecolor\":\"white\",\"showbackground\":true,\"ticks\":\"\",\"zerolinecolor\":\"white\"},\"zaxis\":{\"backgroundcolor\":\"#E5ECF6\",\"gridcolor\":\"white\",\"gridwidth\":2,\"linecolor\":\"white\",\"showbackground\":true,\"ticks\":\"\",\"zerolinecolor\":\"white\"}},\"shapedefaults\":{\"line\":{\"color\":\"#2a3f5f\"}},\"ternary\":{\"aaxis\":{\"gridcolor\":\"white\",\"linecolor\":\"white\",\"ticks\":\"\"},\"baxis\":{\"gridcolor\":\"white\",\"linecolor\":\"white\",\"ticks\":\"\"},\"bgcolor\":\"#E5ECF6\",\"caxis\":{\"gridcolor\":\"white\",\"linecolor\":\"white\",\"ticks\":\"\"}},\"title\":{\"x\":0.05},\"xaxis\":{\"automargin\":true,\"gridcolor\":\"white\",\"linecolor\":\"white\",\"ticks\":\"\",\"title\":{\"standoff\":15},\"zerolinecolor\":\"white\",\"zerolinewidth\":2},\"yaxis\":{\"automargin\":true,\"gridcolor\":\"white\",\"linecolor\":\"white\",\"ticks\":\"\",\"title\":{\"standoff\":15},\"zerolinecolor\":\"white\",\"zerolinewidth\":2}}},\"scene\":{\"domain\":{\"x\":[0.0,1.0],\"y\":[0.0,1.0]},\"xaxis\":{\"title\":{\"text\":\"x\"}},\"yaxis\":{\"title\":{\"text\":\"y\"}},\"zaxis\":{\"title\":{\"text\":\"z\"}}},\"coloraxis\":{\"colorbar\":{\"title\":{\"text\":\"color\"}},\"colorscale\":[[0.0,\"#0d0887\"],[0.1111111111111111,\"#46039f\"],[0.2222222222222222,\"#7201a8\"],[0.3333333333333333,\"#9c179e\"],[0.4444444444444444,\"#bd3786\"],[0.5555555555555556,\"#d8576b\"],[0.6666666666666666,\"#ed7953\"],[0.7777777777777778,\"#fb9f3a\"],[0.8888888888888888,\"#fdca26\"],[1.0,\"#f0f921\"]]},\"legend\":{\"tracegroupgap\":0},\"margin\":{\"t\":60}},                        {\"responsive\": true}                    ).then(function(){\n",
              "                            \n",
              "var gd = document.getElementById('a16e9187-6ecc-4217-81c6-8171982abf36');\n",
              "var x = new MutationObserver(function (mutations, observer) {{\n",
              "        var display = window.getComputedStyle(gd).display;\n",
              "        if (!display || display === 'none') {{\n",
              "            console.log([gd, 'removed!']);\n",
              "            Plotly.purge(gd);\n",
              "            observer.disconnect();\n",
              "        }}\n",
              "}});\n",
              "\n",
              "// Listen for the removal of the full notebook cells\n",
              "var notebookContainer = gd.closest('#notebook-container');\n",
              "if (notebookContainer) {{\n",
              "    x.observe(notebookContainer, {childList: true});\n",
              "}}\n",
              "\n",
              "// Listen for the clearing of the current output cell\n",
              "var outputEl = gd.closest('.output');\n",
              "if (outputEl) {{\n",
              "    x.observe(outputEl, {childList: true});\n",
              "}}\n",
              "\n",
              "                        })                };                            </script>        </div>\n",
              "</body>\n",
              "</html>"
            ]
          },
          "metadata": {}
        }
      ]
    },
    {
      "cell_type": "code",
      "source": [
        ""
      ],
      "metadata": {
        "id": "IGmPfzO8XCDc"
      },
      "execution_count": 41,
      "outputs": []
    }
  ]
}